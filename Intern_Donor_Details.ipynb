{
 "cells": [
  {
   "cell_type": "markdown",
   "id": "ae338dd7",
   "metadata": {},
   "source": [
    "## Importing Libraries"
   ]
  },
  {
   "cell_type": "code",
   "execution_count": 18,
   "id": "b8e8b856",
   "metadata": {},
   "outputs": [],
   "source": [
    "import pandas as pd\n",
    "import numpy as np\n",
    "from datetime import datetime"
   ]
  },
  {
   "cell_type": "markdown",
   "id": "719b997a",
   "metadata": {},
   "source": [
    "## Loading Dataset"
   ]
  },
  {
   "cell_type": "code",
   "execution_count": 19,
   "id": "ed8e192a",
   "metadata": {},
   "outputs": [
    {
     "data": {
      "application/vnd.microsoft.datawrangler.viewer.v0+json": {
       "columns": [
        {
         "name": "index",
         "rawType": "int64",
         "type": "integer"
        },
        {
         "name": "Partner",
         "rawType": "object",
         "type": "string"
        },
        {
         "name": "Amount (ZAR)",
         "rawType": "object",
         "type": "string"
        },
        {
         "name": "Start",
         "rawType": "object",
         "type": "string"
        },
        {
         "name": "End",
         "rawType": "object",
         "type": "string"
        },
        {
         "name": "Requirements",
         "rawType": "object",
         "type": "string"
        },
        {
         "name": "Status",
         "rawType": "object",
         "type": "string"
        },
        {
         "name": "Name",
         "rawType": "object",
         "type": "string"
        },
        {
         "name": "Surname",
         "rawType": "object",
         "type": "string"
        },
        {
         "name": "Email",
         "rawType": "object",
         "type": "string"
        },
        {
         "name": "Total Value",
         "rawType": "object",
         "type": "string"
        },
        {
         "name": "Payment Frequency",
         "rawType": "object",
         "type": "string"
        },
        {
         "name": "Payment Allocations if Different across Yrs",
         "rawType": "object",
         "type": "string"
        },
        {
         "name": "Report Due Dates",
         "rawType": "object",
         "type": "string"
        },
        {
         "name": "HL Contact",
         "rawType": "object",
         "type": "string"
        },
        {
         "name": "HL Email",
         "rawType": "object",
         "type": "string"
        }
       ],
       "ref": "72b89aad-6f5f-450b-bebe-b3cf66136dc7",
       "rows": [
        [
         "0",
         "Smith-Jordan",
         "3500699",
         "1990-09-25",
         "2014-01-16",
         "sit",
         "Won",
         "Matthew",
         "Larson",
         "simmonsjudith@example.com",
         "life",
         "Annually",
         "Common cover candidate boy.",
         "Arrive avoid final then.",
         "Jimmy",
         "smithdawn@example.net"
        ],
        [
         "1",
         "Valentine-Hess",
         "1161237",
         "1993-01-03",
         "will",
         "Agency should modern relate level son fall.",
         "Lost",
         "Christopher",
         "Wilson",
         "mmiller@example.com",
         "8573575",
         "Quarterly",
         "Check music forget able identify up case.",
         "Radio less six address improve organization.",
         "piece",
         "jeffreypruitt@example.net"
        ],
        [
         "2",
         "Peters, Kelly and Hines",
         "7934781",
         "1971-03-11",
         "1973-07-11",
         "Drug finally above PM.",
         "Won",
         "Stephanie",
         "Alvarado",
         "juan52@example.net",
         "2866860",
         "Monthly",
         "Already its other one bar white sign.",
         "Whom money any.",
         "Christina",
         "pamela01@example.org"
        ],
        [
         "3",
         "Cooper Inc",
         "3185201",
         "1992-01-18",
         "1998-03-15",
         "Stay support loss important.",
         "Lost",
         "Julia",
         "Bond",
         "thall@example.org",
         "9240344",
         "Annually",
         "Company difficult side mean shake tough.",
         "Issue attorney much.",
         "say",
         "use"
        ],
        [
         "4",
         "Carter, Horton and Garcia",
         "3260316",
         "2003-03-20",
         "1998-06-27",
         "Might business if research blue one kind.",
         "Lost",
         "Margaret",
         "Suarez",
         "amydrake@example.net",
         "3009164",
         "Monthly",
         "Child everything exactly improve tree food.",
         "Discussion fill knowledge admit.",
         "Michael",
         "marc47@example.net"
        ]
       ],
       "shape": {
        "columns": 15,
        "rows": 5
       }
      },
      "text/html": [
       "<div>\n",
       "<style scoped>\n",
       "    .dataframe tbody tr th:only-of-type {\n",
       "        vertical-align: middle;\n",
       "    }\n",
       "\n",
       "    .dataframe tbody tr th {\n",
       "        vertical-align: top;\n",
       "    }\n",
       "\n",
       "    .dataframe thead th {\n",
       "        text-align: right;\n",
       "    }\n",
       "</style>\n",
       "<table border=\"1\" class=\"dataframe\">\n",
       "  <thead>\n",
       "    <tr style=\"text-align: right;\">\n",
       "      <th></th>\n",
       "      <th>Partner</th>\n",
       "      <th>Amount (ZAR)</th>\n",
       "      <th>Start</th>\n",
       "      <th>End</th>\n",
       "      <th>Requirements</th>\n",
       "      <th>Status</th>\n",
       "      <th>Name</th>\n",
       "      <th>Surname</th>\n",
       "      <th>Email</th>\n",
       "      <th>Total Value</th>\n",
       "      <th>Payment Frequency</th>\n",
       "      <th>Payment Allocations if Different across Yrs</th>\n",
       "      <th>Report Due Dates</th>\n",
       "      <th>HL Contact</th>\n",
       "      <th>HL Email</th>\n",
       "    </tr>\n",
       "  </thead>\n",
       "  <tbody>\n",
       "    <tr>\n",
       "      <th>0</th>\n",
       "      <td>Smith-Jordan</td>\n",
       "      <td>3500699</td>\n",
       "      <td>1990-09-25</td>\n",
       "      <td>2014-01-16</td>\n",
       "      <td>sit</td>\n",
       "      <td>Won</td>\n",
       "      <td>Matthew</td>\n",
       "      <td>Larson</td>\n",
       "      <td>simmonsjudith@example.com</td>\n",
       "      <td>life</td>\n",
       "      <td>Annually</td>\n",
       "      <td>Common cover candidate boy.</td>\n",
       "      <td>Arrive avoid final then.</td>\n",
       "      <td>Jimmy</td>\n",
       "      <td>smithdawn@example.net</td>\n",
       "    </tr>\n",
       "    <tr>\n",
       "      <th>1</th>\n",
       "      <td>Valentine-Hess</td>\n",
       "      <td>1161237</td>\n",
       "      <td>1993-01-03</td>\n",
       "      <td>will</td>\n",
       "      <td>Agency should modern relate level son fall.</td>\n",
       "      <td>Lost</td>\n",
       "      <td>Christopher</td>\n",
       "      <td>Wilson</td>\n",
       "      <td>mmiller@example.com</td>\n",
       "      <td>8573575</td>\n",
       "      <td>Quarterly</td>\n",
       "      <td>Check music forget able identify up case.</td>\n",
       "      <td>Radio less six address improve organization.</td>\n",
       "      <td>piece</td>\n",
       "      <td>jeffreypruitt@example.net</td>\n",
       "    </tr>\n",
       "    <tr>\n",
       "      <th>2</th>\n",
       "      <td>Peters, Kelly and Hines</td>\n",
       "      <td>7934781</td>\n",
       "      <td>1971-03-11</td>\n",
       "      <td>1973-07-11</td>\n",
       "      <td>Drug finally above PM.</td>\n",
       "      <td>Won</td>\n",
       "      <td>Stephanie</td>\n",
       "      <td>Alvarado</td>\n",
       "      <td>juan52@example.net</td>\n",
       "      <td>2866860</td>\n",
       "      <td>Monthly</td>\n",
       "      <td>Already its other one bar white sign.</td>\n",
       "      <td>Whom money any.</td>\n",
       "      <td>Christina</td>\n",
       "      <td>pamela01@example.org</td>\n",
       "    </tr>\n",
       "    <tr>\n",
       "      <th>3</th>\n",
       "      <td>Cooper Inc</td>\n",
       "      <td>3185201</td>\n",
       "      <td>1992-01-18</td>\n",
       "      <td>1998-03-15</td>\n",
       "      <td>Stay support loss important.</td>\n",
       "      <td>Lost</td>\n",
       "      <td>Julia</td>\n",
       "      <td>Bond</td>\n",
       "      <td>thall@example.org</td>\n",
       "      <td>9240344</td>\n",
       "      <td>Annually</td>\n",
       "      <td>Company difficult side mean shake tough.</td>\n",
       "      <td>Issue attorney much.</td>\n",
       "      <td>say</td>\n",
       "      <td>use</td>\n",
       "    </tr>\n",
       "    <tr>\n",
       "      <th>4</th>\n",
       "      <td>Carter, Horton and Garcia</td>\n",
       "      <td>3260316</td>\n",
       "      <td>2003-03-20</td>\n",
       "      <td>1998-06-27</td>\n",
       "      <td>Might business if research blue one kind.</td>\n",
       "      <td>Lost</td>\n",
       "      <td>Margaret</td>\n",
       "      <td>Suarez</td>\n",
       "      <td>amydrake@example.net</td>\n",
       "      <td>3009164</td>\n",
       "      <td>Monthly</td>\n",
       "      <td>Child everything exactly improve tree food.</td>\n",
       "      <td>Discussion fill knowledge admit.</td>\n",
       "      <td>Michael</td>\n",
       "      <td>marc47@example.net</td>\n",
       "    </tr>\n",
       "  </tbody>\n",
       "</table>\n",
       "</div>"
      ],
      "text/plain": [
       "                     Partner Amount (ZAR)       Start         End  \\\n",
       "0               Smith-Jordan      3500699  1990-09-25  2014-01-16   \n",
       "1             Valentine-Hess      1161237  1993-01-03        will   \n",
       "2    Peters, Kelly and Hines      7934781  1971-03-11  1973-07-11   \n",
       "3                 Cooper Inc      3185201  1992-01-18  1998-03-15   \n",
       "4  Carter, Horton and Garcia      3260316  2003-03-20  1998-06-27   \n",
       "\n",
       "                                  Requirements Status         Name   Surname  \\\n",
       "0                                          sit    Won      Matthew    Larson   \n",
       "1  Agency should modern relate level son fall.   Lost  Christopher    Wilson   \n",
       "2                       Drug finally above PM.    Won    Stephanie  Alvarado   \n",
       "3                 Stay support loss important.   Lost        Julia      Bond   \n",
       "4    Might business if research blue one kind.   Lost     Margaret    Suarez   \n",
       "\n",
       "                       Email Total Value Payment Frequency  \\\n",
       "0  simmonsjudith@example.com        life          Annually   \n",
       "1        mmiller@example.com     8573575         Quarterly   \n",
       "2         juan52@example.net     2866860           Monthly   \n",
       "3          thall@example.org     9240344          Annually   \n",
       "4       amydrake@example.net     3009164           Monthly   \n",
       "\n",
       "   Payment Allocations if Different across Yrs  \\\n",
       "0                  Common cover candidate boy.   \n",
       "1    Check music forget able identify up case.   \n",
       "2        Already its other one bar white sign.   \n",
       "3     Company difficult side mean shake tough.   \n",
       "4  Child everything exactly improve tree food.   \n",
       "\n",
       "                               Report Due Dates HL Contact  \\\n",
       "0                      Arrive avoid final then.      Jimmy   \n",
       "1  Radio less six address improve organization.      piece   \n",
       "2                               Whom money any.  Christina   \n",
       "3                          Issue attorney much.        say   \n",
       "4              Discussion fill knowledge admit.    Michael   \n",
       "\n",
       "                    HL Email  \n",
       "0      smithdawn@example.net  \n",
       "1  jeffreypruitt@example.net  \n",
       "2       pamela01@example.org  \n",
       "3                        use  \n",
       "4         marc47@example.net  "
      ]
     },
     "execution_count": 19,
     "metadata": {},
     "output_type": "execute_result"
    }
   ],
   "source": [
    "df = pd.read_csv('Intern_Donor_Details.csv')\n",
    "df.head()"
   ]
  },
  {
   "cell_type": "markdown",
   "id": "11ac364a",
   "metadata": {},
   "source": [
    "## Data Inspection"
   ]
  },
  {
   "cell_type": "code",
   "execution_count": 20,
   "id": "a735b05d",
   "metadata": {},
   "outputs": [
    {
     "name": "stdout",
     "output_type": "stream",
     "text": [
      "<class 'pandas.core.frame.DataFrame'>\n",
      "RangeIndex: 100 entries, 0 to 99\n",
      "Data columns (total 15 columns):\n",
      " #   Column                                       Non-Null Count  Dtype \n",
      "---  ------                                       --------------  ----- \n",
      " 0   Partner                                      100 non-null    object\n",
      " 1   Amount (ZAR)                                 100 non-null    object\n",
      " 2   Start                                        100 non-null    object\n",
      " 3   End                                          100 non-null    object\n",
      " 4   Requirements                                 100 non-null    object\n",
      " 5   Status                                       100 non-null    object\n",
      " 6   Name                                         100 non-null    object\n",
      " 7   Surname                                      100 non-null    object\n",
      " 8   Email                                        100 non-null    object\n",
      " 9   Total Value                                  100 non-null    object\n",
      " 10  Payment Frequency                            100 non-null    object\n",
      " 11  Payment Allocations if Different across Yrs  100 non-null    object\n",
      " 12  Report Due Dates                             100 non-null    object\n",
      " 13  HL Contact                                   100 non-null    object\n",
      " 14  HL Email                                     100 non-null    object\n",
      "dtypes: object(15)\n",
      "memory usage: 11.8+ KB\n"
     ]
    }
   ],
   "source": [
    "df.info()"
   ]
  },
  {
   "cell_type": "markdown",
   "id": "ee0b2457",
   "metadata": {},
   "source": [
    "## Summary statistics for numeric columns"
   ]
  },
  {
   "cell_type": "code",
   "execution_count": 21,
   "id": "3c115a90",
   "metadata": {},
   "outputs": [
    {
     "data": {
      "application/vnd.microsoft.datawrangler.viewer.v0+json": {
       "columns": [
        {
         "name": "index",
         "rawType": "object",
         "type": "string"
        },
        {
         "name": "Partner",
         "rawType": "object",
         "type": "unknown"
        },
        {
         "name": "Amount (ZAR)",
         "rawType": "object",
         "type": "unknown"
        },
        {
         "name": "Start",
         "rawType": "object",
         "type": "unknown"
        },
        {
         "name": "End",
         "rawType": "object",
         "type": "unknown"
        },
        {
         "name": "Requirements",
         "rawType": "object",
         "type": "unknown"
        },
        {
         "name": "Status",
         "rawType": "object",
         "type": "unknown"
        },
        {
         "name": "Name",
         "rawType": "object",
         "type": "unknown"
        },
        {
         "name": "Surname",
         "rawType": "object",
         "type": "unknown"
        },
        {
         "name": "Email",
         "rawType": "object",
         "type": "unknown"
        },
        {
         "name": "Total Value",
         "rawType": "object",
         "type": "unknown"
        },
        {
         "name": "Payment Frequency",
         "rawType": "object",
         "type": "unknown"
        },
        {
         "name": "Payment Allocations if Different across Yrs",
         "rawType": "object",
         "type": "unknown"
        },
        {
         "name": "Report Due Dates",
         "rawType": "object",
         "type": "unknown"
        },
        {
         "name": "HL Contact",
         "rawType": "object",
         "type": "unknown"
        },
        {
         "name": "HL Email",
         "rawType": "object",
         "type": "unknown"
        }
       ],
       "ref": "229a6e91-2318-4272-beac-174c4e0e03de",
       "rows": [
        [
         "count",
         "100",
         "100",
         "100",
         "100",
         "100",
         "100",
         "100",
         "100",
         "100",
         "100",
         "100",
         "100",
         "100",
         "100",
         "100"
        ],
        [
         "unique",
         "100",
         "99",
         "99",
         "100",
         "100",
         "2",
         "81",
         "85",
         "100",
         "100",
         "3",
         "100",
         "99",
         "82",
         "100"
        ],
        [
         "top",
         "Smith-Jordan",
         "land",
         "2021-01-14",
         "2014-01-16",
         "sit",
         "Won",
         "Michael",
         "Smith",
         "simmonsjudith@example.com",
         "life",
         "Quarterly",
         "Common cover candidate boy.",
         "simply",
         "John",
         "smithdawn@example.net"
        ],
        [
         "freq",
         "1",
         "2",
         "2",
         "1",
         "1",
         "50",
         "4",
         "4",
         "1",
         "1",
         "36",
         "1",
         "2",
         "3",
         "1"
        ]
       ],
       "shape": {
        "columns": 15,
        "rows": 4
       }
      },
      "text/html": [
       "<div>\n",
       "<style scoped>\n",
       "    .dataframe tbody tr th:only-of-type {\n",
       "        vertical-align: middle;\n",
       "    }\n",
       "\n",
       "    .dataframe tbody tr th {\n",
       "        vertical-align: top;\n",
       "    }\n",
       "\n",
       "    .dataframe thead th {\n",
       "        text-align: right;\n",
       "    }\n",
       "</style>\n",
       "<table border=\"1\" class=\"dataframe\">\n",
       "  <thead>\n",
       "    <tr style=\"text-align: right;\">\n",
       "      <th></th>\n",
       "      <th>Partner</th>\n",
       "      <th>Amount (ZAR)</th>\n",
       "      <th>Start</th>\n",
       "      <th>End</th>\n",
       "      <th>Requirements</th>\n",
       "      <th>Status</th>\n",
       "      <th>Name</th>\n",
       "      <th>Surname</th>\n",
       "      <th>Email</th>\n",
       "      <th>Total Value</th>\n",
       "      <th>Payment Frequency</th>\n",
       "      <th>Payment Allocations if Different across Yrs</th>\n",
       "      <th>Report Due Dates</th>\n",
       "      <th>HL Contact</th>\n",
       "      <th>HL Email</th>\n",
       "    </tr>\n",
       "  </thead>\n",
       "  <tbody>\n",
       "    <tr>\n",
       "      <th>count</th>\n",
       "      <td>100</td>\n",
       "      <td>100</td>\n",
       "      <td>100</td>\n",
       "      <td>100</td>\n",
       "      <td>100</td>\n",
       "      <td>100</td>\n",
       "      <td>100</td>\n",
       "      <td>100</td>\n",
       "      <td>100</td>\n",
       "      <td>100</td>\n",
       "      <td>100</td>\n",
       "      <td>100</td>\n",
       "      <td>100</td>\n",
       "      <td>100</td>\n",
       "      <td>100</td>\n",
       "    </tr>\n",
       "    <tr>\n",
       "      <th>unique</th>\n",
       "      <td>100</td>\n",
       "      <td>99</td>\n",
       "      <td>99</td>\n",
       "      <td>100</td>\n",
       "      <td>100</td>\n",
       "      <td>2</td>\n",
       "      <td>81</td>\n",
       "      <td>85</td>\n",
       "      <td>100</td>\n",
       "      <td>100</td>\n",
       "      <td>3</td>\n",
       "      <td>100</td>\n",
       "      <td>99</td>\n",
       "      <td>82</td>\n",
       "      <td>100</td>\n",
       "    </tr>\n",
       "    <tr>\n",
       "      <th>top</th>\n",
       "      <td>Smith-Jordan</td>\n",
       "      <td>land</td>\n",
       "      <td>2021-01-14</td>\n",
       "      <td>2014-01-16</td>\n",
       "      <td>sit</td>\n",
       "      <td>Won</td>\n",
       "      <td>Michael</td>\n",
       "      <td>Smith</td>\n",
       "      <td>simmonsjudith@example.com</td>\n",
       "      <td>life</td>\n",
       "      <td>Quarterly</td>\n",
       "      <td>Common cover candidate boy.</td>\n",
       "      <td>simply</td>\n",
       "      <td>John</td>\n",
       "      <td>smithdawn@example.net</td>\n",
       "    </tr>\n",
       "    <tr>\n",
       "      <th>freq</th>\n",
       "      <td>1</td>\n",
       "      <td>2</td>\n",
       "      <td>2</td>\n",
       "      <td>1</td>\n",
       "      <td>1</td>\n",
       "      <td>50</td>\n",
       "      <td>4</td>\n",
       "      <td>4</td>\n",
       "      <td>1</td>\n",
       "      <td>1</td>\n",
       "      <td>36</td>\n",
       "      <td>1</td>\n",
       "      <td>2</td>\n",
       "      <td>3</td>\n",
       "      <td>1</td>\n",
       "    </tr>\n",
       "  </tbody>\n",
       "</table>\n",
       "</div>"
      ],
      "text/plain": [
       "             Partner Amount (ZAR)       Start         End Requirements Status  \\\n",
       "count            100          100         100         100          100    100   \n",
       "unique           100           99          99         100          100      2   \n",
       "top     Smith-Jordan         land  2021-01-14  2014-01-16          sit    Won   \n",
       "freq               1            2           2           1            1     50   \n",
       "\n",
       "           Name Surname                      Email Total Value  \\\n",
       "count       100     100                        100         100   \n",
       "unique       81      85                        100         100   \n",
       "top     Michael   Smith  simmonsjudith@example.com        life   \n",
       "freq          4       4                          1           1   \n",
       "\n",
       "       Payment Frequency Payment Allocations if Different across Yrs  \\\n",
       "count                100                                         100   \n",
       "unique                 3                                         100   \n",
       "top            Quarterly                 Common cover candidate boy.   \n",
       "freq                  36                                           1   \n",
       "\n",
       "       Report Due Dates HL Contact               HL Email  \n",
       "count               100        100                    100  \n",
       "unique               99         82                    100  \n",
       "top              simply       John  smithdawn@example.net  \n",
       "freq                  2          3                      1  "
      ]
     },
     "execution_count": 21,
     "metadata": {},
     "output_type": "execute_result"
    }
   ],
   "source": [
    "df.describe(include='all')"
   ]
  },
  {
   "cell_type": "markdown",
   "id": "9093a7ef",
   "metadata": {},
   "source": [
    "## Checking for missing values"
   ]
  },
  {
   "cell_type": "code",
   "execution_count": 22,
   "id": "fa6f246e",
   "metadata": {},
   "outputs": [
    {
     "data": {
      "application/vnd.microsoft.datawrangler.viewer.v0+json": {
       "columns": [
        {
         "name": "index",
         "rawType": "object",
         "type": "string"
        },
        {
         "name": "0",
         "rawType": "int64",
         "type": "integer"
        }
       ],
       "ref": "e7a54260-33e5-4c63-b1d7-ab5fcb30d65f",
       "rows": [
        [
         "Partner",
         "0"
        ],
        [
         "Amount (ZAR)",
         "0"
        ],
        [
         "Start",
         "0"
        ],
        [
         "End",
         "0"
        ],
        [
         "Requirements",
         "0"
        ],
        [
         "Status",
         "0"
        ],
        [
         "Name",
         "0"
        ],
        [
         "Surname",
         "0"
        ],
        [
         "Email",
         "0"
        ],
        [
         "Total Value",
         "0"
        ],
        [
         "Payment Frequency",
         "0"
        ],
        [
         "Payment Allocations if Different across Yrs",
         "0"
        ],
        [
         "Report Due Dates",
         "0"
        ],
        [
         "HL Contact",
         "0"
        ],
        [
         "HL Email",
         "0"
        ]
       ],
       "shape": {
        "columns": 1,
        "rows": 15
       }
      },
      "text/plain": [
       "Partner                                        0\n",
       "Amount (ZAR)                                   0\n",
       "Start                                          0\n",
       "End                                            0\n",
       "Requirements                                   0\n",
       "Status                                         0\n",
       "Name                                           0\n",
       "Surname                                        0\n",
       "Email                                          0\n",
       "Total Value                                    0\n",
       "Payment Frequency                              0\n",
       "Payment Allocations if Different across Yrs    0\n",
       "Report Due Dates                               0\n",
       "HL Contact                                     0\n",
       "HL Email                                       0\n",
       "dtype: int64"
      ]
     },
     "execution_count": 22,
     "metadata": {},
     "output_type": "execute_result"
    }
   ],
   "source": [
    "df.isna().sum()"
   ]
  },
  {
   "cell_type": "markdown",
   "id": "c40dc834",
   "metadata": {},
   "source": [
    "## Cleaning Column Names"
   ]
  },
  {
   "cell_type": "markdown",
   "id": "ca94dbaa",
   "metadata": {},
   "source": [
    "### Standardizing column name"
   ]
  },
  {
   "cell_type": "code",
   "execution_count": 23,
   "id": "7c636bcd",
   "metadata": {},
   "outputs": [],
   "source": [
    "new_columns = {\n",
    "    'Partner': 'partner',\n",
    "    'Amount (ZAR)': 'amount_zar',\n",
    "    'Start': 'start_date',\n",
    "    'End': 'end_date',\n",
    "    'Requirements': 'requirements',\n",
    "    'Status': 'status',\n",
    "    'Name': 'first_name',\n",
    "    'Surname': 'last_name',\n",
    "    'Email': 'email',\n",
    "    'Total Value': 'total_value',\n",
    "    'Payment Frequency': 'payment_frequency',\n",
    "    'Payment Allocations if Different across Yrs': 'payment_allocations',\n",
    "    'Report Due Dates': 'report_due_dates',\n",
    "    'HL Contact': 'hl_contact',\n",
    "    'HL Email': 'hl_email'\n",
    "}\n",
    "\n",
    "df = df.rename(columns=new_columns)"
   ]
  },
  {
   "cell_type": "markdown",
   "id": "4a995772",
   "metadata": {},
   "source": [
    "### Verifying new column names"
   ]
  },
  {
   "cell_type": "code",
   "execution_count": 24,
   "id": "f2e1d361",
   "metadata": {},
   "outputs": [
    {
     "data": {
      "text/plain": [
       "Index(['partner', 'amount_zar', 'start_date', 'end_date', 'requirements',\n",
       "       'status', 'first_name', 'last_name', 'email', 'total_value',\n",
       "       'payment_frequency', 'payment_allocations', 'report_due_dates',\n",
       "       'hl_contact', 'hl_email'],\n",
       "      dtype='object')"
      ]
     },
     "execution_count": 24,
     "metadata": {},
     "output_type": "execute_result"
    }
   ],
   "source": [
    "df.columns\n"
   ]
  },
  {
   "cell_type": "markdown",
   "id": "a8a1d133",
   "metadata": {},
   "source": [
    "## Cleaning Numeric Fields"
   ]
  },
  {
   "cell_type": "markdown",
   "id": "80834e1d",
   "metadata": {},
   "source": [
    "### Converting amount_zar to numeric"
   ]
  },
  {
   "cell_type": "code",
   "execution_count": 25,
   "id": "9b5c9b57",
   "metadata": {},
   "outputs": [],
   "source": [
    "df['amount_zar'] = pd.to_numeric(df['amount_zar'], errors='coerce')"
   ]
  },
  {
   "cell_type": "markdown",
   "id": "21a940f9",
   "metadata": {},
   "source": [
    "### Converting total_value to numeric"
   ]
  },
  {
   "cell_type": "code",
   "execution_count": 26,
   "id": "14723fa1",
   "metadata": {},
   "outputs": [],
   "source": [
    "df['total_value'] = pd.to_numeric(df['total_value'], errors='coerce')"
   ]
  },
  {
   "cell_type": "markdown",
   "id": "93b265fe",
   "metadata": {},
   "source": [
    "### Checking and Removing negative values if any"
   ]
  },
  {
   "cell_type": "code",
   "execution_count": 27,
   "id": "f06fe588",
   "metadata": {},
   "outputs": [],
   "source": [
    "df['amount_zar'] = df['amount_zar'].abs()\n",
    "df['total_value'] = df['total_value'].abs()"
   ]
  },
  {
   "cell_type": "markdown",
   "id": "9b67fc88",
   "metadata": {},
   "source": [
    "### Filling missing total_value with amount_zar where possible"
   ]
  },
  {
   "cell_type": "code",
   "execution_count": 28,
   "id": "66870bde",
   "metadata": {},
   "outputs": [
    {
     "data": {
      "application/vnd.microsoft.datawrangler.viewer.v0+json": {
       "columns": [
        {
         "name": "index",
         "rawType": "int64",
         "type": "integer"
        },
        {
         "name": "partner",
         "rawType": "object",
         "type": "string"
        },
        {
         "name": "amount_zar",
         "rawType": "float64",
         "type": "float"
        },
        {
         "name": "start_date",
         "rawType": "object",
         "type": "string"
        },
        {
         "name": "end_date",
         "rawType": "object",
         "type": "string"
        },
        {
         "name": "requirements",
         "rawType": "object",
         "type": "string"
        },
        {
         "name": "status",
         "rawType": "object",
         "type": "string"
        },
        {
         "name": "first_name",
         "rawType": "object",
         "type": "string"
        },
        {
         "name": "last_name",
         "rawType": "object",
         "type": "string"
        },
        {
         "name": "email",
         "rawType": "object",
         "type": "string"
        },
        {
         "name": "total_value",
         "rawType": "float64",
         "type": "float"
        },
        {
         "name": "payment_frequency",
         "rawType": "object",
         "type": "string"
        },
        {
         "name": "payment_allocations",
         "rawType": "object",
         "type": "string"
        },
        {
         "name": "report_due_dates",
         "rawType": "object",
         "type": "string"
        },
        {
         "name": "hl_contact",
         "rawType": "object",
         "type": "string"
        },
        {
         "name": "hl_email",
         "rawType": "object",
         "type": "string"
        }
       ],
       "ref": "909c90b1-aa58-4717-9e4a-255d4ecb3f0a",
       "rows": [
        [
         "0",
         "Smith-Jordan",
         "3500699.0",
         "1990-09-25",
         "2014-01-16",
         "sit",
         "Won",
         "Matthew",
         "Larson",
         "simmonsjudith@example.com",
         "3500699.0",
         "Annually",
         "Common cover candidate boy.",
         "Arrive avoid final then.",
         "Jimmy",
         "smithdawn@example.net"
        ],
        [
         "1",
         "Valentine-Hess",
         "1161237.0",
         "1993-01-03",
         "will",
         "Agency should modern relate level son fall.",
         "Lost",
         "Christopher",
         "Wilson",
         "mmiller@example.com",
         "8573575.0",
         "Quarterly",
         "Check music forget able identify up case.",
         "Radio less six address improve organization.",
         "piece",
         "jeffreypruitt@example.net"
        ],
        [
         "2",
         "Peters, Kelly and Hines",
         "7934781.0",
         "1971-03-11",
         "1973-07-11",
         "Drug finally above PM.",
         "Won",
         "Stephanie",
         "Alvarado",
         "juan52@example.net",
         "2866860.0",
         "Monthly",
         "Already its other one bar white sign.",
         "Whom money any.",
         "Christina",
         "pamela01@example.org"
        ],
        [
         "3",
         "Cooper Inc",
         "3185201.0",
         "1992-01-18",
         "1998-03-15",
         "Stay support loss important.",
         "Lost",
         "Julia",
         "Bond",
         "thall@example.org",
         "9240344.0",
         "Annually",
         "Company difficult side mean shake tough.",
         "Issue attorney much.",
         "say",
         "use"
        ],
        [
         "4",
         "Carter, Horton and Garcia",
         "3260316.0",
         "2003-03-20",
         "1998-06-27",
         "Might business if research blue one kind.",
         "Lost",
         "Margaret",
         "Suarez",
         "amydrake@example.net",
         "3009164.0",
         "Monthly",
         "Child everything exactly improve tree food.",
         "Discussion fill knowledge admit.",
         "Michael",
         "marc47@example.net"
        ]
       ],
       "shape": {
        "columns": 15,
        "rows": 5
       }
      },
      "text/html": [
       "<div>\n",
       "<style scoped>\n",
       "    .dataframe tbody tr th:only-of-type {\n",
       "        vertical-align: middle;\n",
       "    }\n",
       "\n",
       "    .dataframe tbody tr th {\n",
       "        vertical-align: top;\n",
       "    }\n",
       "\n",
       "    .dataframe thead th {\n",
       "        text-align: right;\n",
       "    }\n",
       "</style>\n",
       "<table border=\"1\" class=\"dataframe\">\n",
       "  <thead>\n",
       "    <tr style=\"text-align: right;\">\n",
       "      <th></th>\n",
       "      <th>partner</th>\n",
       "      <th>amount_zar</th>\n",
       "      <th>start_date</th>\n",
       "      <th>end_date</th>\n",
       "      <th>requirements</th>\n",
       "      <th>status</th>\n",
       "      <th>first_name</th>\n",
       "      <th>last_name</th>\n",
       "      <th>email</th>\n",
       "      <th>total_value</th>\n",
       "      <th>payment_frequency</th>\n",
       "      <th>payment_allocations</th>\n",
       "      <th>report_due_dates</th>\n",
       "      <th>hl_contact</th>\n",
       "      <th>hl_email</th>\n",
       "    </tr>\n",
       "  </thead>\n",
       "  <tbody>\n",
       "    <tr>\n",
       "      <th>0</th>\n",
       "      <td>Smith-Jordan</td>\n",
       "      <td>3500699.0</td>\n",
       "      <td>1990-09-25</td>\n",
       "      <td>2014-01-16</td>\n",
       "      <td>sit</td>\n",
       "      <td>Won</td>\n",
       "      <td>Matthew</td>\n",
       "      <td>Larson</td>\n",
       "      <td>simmonsjudith@example.com</td>\n",
       "      <td>3500699.0</td>\n",
       "      <td>Annually</td>\n",
       "      <td>Common cover candidate boy.</td>\n",
       "      <td>Arrive avoid final then.</td>\n",
       "      <td>Jimmy</td>\n",
       "      <td>smithdawn@example.net</td>\n",
       "    </tr>\n",
       "    <tr>\n",
       "      <th>1</th>\n",
       "      <td>Valentine-Hess</td>\n",
       "      <td>1161237.0</td>\n",
       "      <td>1993-01-03</td>\n",
       "      <td>will</td>\n",
       "      <td>Agency should modern relate level son fall.</td>\n",
       "      <td>Lost</td>\n",
       "      <td>Christopher</td>\n",
       "      <td>Wilson</td>\n",
       "      <td>mmiller@example.com</td>\n",
       "      <td>8573575.0</td>\n",
       "      <td>Quarterly</td>\n",
       "      <td>Check music forget able identify up case.</td>\n",
       "      <td>Radio less six address improve organization.</td>\n",
       "      <td>piece</td>\n",
       "      <td>jeffreypruitt@example.net</td>\n",
       "    </tr>\n",
       "    <tr>\n",
       "      <th>2</th>\n",
       "      <td>Peters, Kelly and Hines</td>\n",
       "      <td>7934781.0</td>\n",
       "      <td>1971-03-11</td>\n",
       "      <td>1973-07-11</td>\n",
       "      <td>Drug finally above PM.</td>\n",
       "      <td>Won</td>\n",
       "      <td>Stephanie</td>\n",
       "      <td>Alvarado</td>\n",
       "      <td>juan52@example.net</td>\n",
       "      <td>2866860.0</td>\n",
       "      <td>Monthly</td>\n",
       "      <td>Already its other one bar white sign.</td>\n",
       "      <td>Whom money any.</td>\n",
       "      <td>Christina</td>\n",
       "      <td>pamela01@example.org</td>\n",
       "    </tr>\n",
       "    <tr>\n",
       "      <th>3</th>\n",
       "      <td>Cooper Inc</td>\n",
       "      <td>3185201.0</td>\n",
       "      <td>1992-01-18</td>\n",
       "      <td>1998-03-15</td>\n",
       "      <td>Stay support loss important.</td>\n",
       "      <td>Lost</td>\n",
       "      <td>Julia</td>\n",
       "      <td>Bond</td>\n",
       "      <td>thall@example.org</td>\n",
       "      <td>9240344.0</td>\n",
       "      <td>Annually</td>\n",
       "      <td>Company difficult side mean shake tough.</td>\n",
       "      <td>Issue attorney much.</td>\n",
       "      <td>say</td>\n",
       "      <td>use</td>\n",
       "    </tr>\n",
       "    <tr>\n",
       "      <th>4</th>\n",
       "      <td>Carter, Horton and Garcia</td>\n",
       "      <td>3260316.0</td>\n",
       "      <td>2003-03-20</td>\n",
       "      <td>1998-06-27</td>\n",
       "      <td>Might business if research blue one kind.</td>\n",
       "      <td>Lost</td>\n",
       "      <td>Margaret</td>\n",
       "      <td>Suarez</td>\n",
       "      <td>amydrake@example.net</td>\n",
       "      <td>3009164.0</td>\n",
       "      <td>Monthly</td>\n",
       "      <td>Child everything exactly improve tree food.</td>\n",
       "      <td>Discussion fill knowledge admit.</td>\n",
       "      <td>Michael</td>\n",
       "      <td>marc47@example.net</td>\n",
       "    </tr>\n",
       "  </tbody>\n",
       "</table>\n",
       "</div>"
      ],
      "text/plain": [
       "                     partner  amount_zar  start_date    end_date  \\\n",
       "0               Smith-Jordan   3500699.0  1990-09-25  2014-01-16   \n",
       "1             Valentine-Hess   1161237.0  1993-01-03        will   \n",
       "2    Peters, Kelly and Hines   7934781.0  1971-03-11  1973-07-11   \n",
       "3                 Cooper Inc   3185201.0  1992-01-18  1998-03-15   \n",
       "4  Carter, Horton and Garcia   3260316.0  2003-03-20  1998-06-27   \n",
       "\n",
       "                                  requirements status   first_name last_name  \\\n",
       "0                                          sit    Won      Matthew    Larson   \n",
       "1  Agency should modern relate level son fall.   Lost  Christopher    Wilson   \n",
       "2                       Drug finally above PM.    Won    Stephanie  Alvarado   \n",
       "3                 Stay support loss important.   Lost        Julia      Bond   \n",
       "4    Might business if research blue one kind.   Lost     Margaret    Suarez   \n",
       "\n",
       "                       email  total_value payment_frequency  \\\n",
       "0  simmonsjudith@example.com    3500699.0          Annually   \n",
       "1        mmiller@example.com    8573575.0         Quarterly   \n",
       "2         juan52@example.net    2866860.0           Monthly   \n",
       "3          thall@example.org    9240344.0          Annually   \n",
       "4       amydrake@example.net    3009164.0           Monthly   \n",
       "\n",
       "                           payment_allocations  \\\n",
       "0                  Common cover candidate boy.   \n",
       "1    Check music forget able identify up case.   \n",
       "2        Already its other one bar white sign.   \n",
       "3     Company difficult side mean shake tough.   \n",
       "4  Child everything exactly improve tree food.   \n",
       "\n",
       "                               report_due_dates hl_contact  \\\n",
       "0                      Arrive avoid final then.      Jimmy   \n",
       "1  Radio less six address improve organization.      piece   \n",
       "2                               Whom money any.  Christina   \n",
       "3                          Issue attorney much.        say   \n",
       "4              Discussion fill knowledge admit.    Michael   \n",
       "\n",
       "                    hl_email  \n",
       "0      smithdawn@example.net  \n",
       "1  jeffreypruitt@example.net  \n",
       "2       pamela01@example.org  \n",
       "3                        use  \n",
       "4         marc47@example.net  "
      ]
     },
     "execution_count": 28,
     "metadata": {},
     "output_type": "execute_result"
    }
   ],
   "source": [
    "df['total_value'] = df['total_value'].fillna(df['amount_zar'])\n",
    "df.head()"
   ]
  },
  {
   "cell_type": "markdown",
   "id": "65862872",
   "metadata": {},
   "source": [
    "### Displaying cleaned numeric fields"
   ]
  },
  {
   "cell_type": "code",
   "execution_count": 29,
   "id": "87634690",
   "metadata": {},
   "outputs": [
    {
     "data": {
      "application/vnd.microsoft.datawrangler.viewer.v0+json": {
       "columns": [
        {
         "name": "index",
         "rawType": "object",
         "type": "string"
        },
        {
         "name": "amount_zar",
         "rawType": "float64",
         "type": "float"
        },
        {
         "name": "total_value",
         "rawType": "float64",
         "type": "float"
        }
       ],
       "ref": "0117be9a-41cb-4195-86d3-5bd9c0898f18",
       "rows": [
        [
         "count",
         "91.0",
         "99.0"
        ],
        [
         "mean",
         "4807619.120879121",
         "4596216.707070707"
        ],
        [
         "std",
         "2871734.9338709395",
         "2940738.154980828"
        ],
        [
         "min",
         "33928.0",
         "11051.0"
        ],
        [
         "25%",
         "2214731.0",
         "2122253.5"
        ],
        [
         "50%",
         "4848410.0",
         "4160700.0"
        ],
        [
         "75%",
         "7453133.5",
         "6726866.0"
        ],
        [
         "max",
         "9987963.0",
         "9985106.0"
        ]
       ],
       "shape": {
        "columns": 2,
        "rows": 8
       }
      },
      "text/html": [
       "<div>\n",
       "<style scoped>\n",
       "    .dataframe tbody tr th:only-of-type {\n",
       "        vertical-align: middle;\n",
       "    }\n",
       "\n",
       "    .dataframe tbody tr th {\n",
       "        vertical-align: top;\n",
       "    }\n",
       "\n",
       "    .dataframe thead th {\n",
       "        text-align: right;\n",
       "    }\n",
       "</style>\n",
       "<table border=\"1\" class=\"dataframe\">\n",
       "  <thead>\n",
       "    <tr style=\"text-align: right;\">\n",
       "      <th></th>\n",
       "      <th>amount_zar</th>\n",
       "      <th>total_value</th>\n",
       "    </tr>\n",
       "  </thead>\n",
       "  <tbody>\n",
       "    <tr>\n",
       "      <th>count</th>\n",
       "      <td>9.100000e+01</td>\n",
       "      <td>9.900000e+01</td>\n",
       "    </tr>\n",
       "    <tr>\n",
       "      <th>mean</th>\n",
       "      <td>4.807619e+06</td>\n",
       "      <td>4.596217e+06</td>\n",
       "    </tr>\n",
       "    <tr>\n",
       "      <th>std</th>\n",
       "      <td>2.871735e+06</td>\n",
       "      <td>2.940738e+06</td>\n",
       "    </tr>\n",
       "    <tr>\n",
       "      <th>min</th>\n",
       "      <td>3.392800e+04</td>\n",
       "      <td>1.105100e+04</td>\n",
       "    </tr>\n",
       "    <tr>\n",
       "      <th>25%</th>\n",
       "      <td>2.214731e+06</td>\n",
       "      <td>2.122254e+06</td>\n",
       "    </tr>\n",
       "    <tr>\n",
       "      <th>50%</th>\n",
       "      <td>4.848410e+06</td>\n",
       "      <td>4.160700e+06</td>\n",
       "    </tr>\n",
       "    <tr>\n",
       "      <th>75%</th>\n",
       "      <td>7.453134e+06</td>\n",
       "      <td>6.726866e+06</td>\n",
       "    </tr>\n",
       "    <tr>\n",
       "      <th>max</th>\n",
       "      <td>9.987963e+06</td>\n",
       "      <td>9.985106e+06</td>\n",
       "    </tr>\n",
       "  </tbody>\n",
       "</table>\n",
       "</div>"
      ],
      "text/plain": [
       "         amount_zar   total_value\n",
       "count  9.100000e+01  9.900000e+01\n",
       "mean   4.807619e+06  4.596217e+06\n",
       "std    2.871735e+06  2.940738e+06\n",
       "min    3.392800e+04  1.105100e+04\n",
       "25%    2.214731e+06  2.122254e+06\n",
       "50%    4.848410e+06  4.160700e+06\n",
       "75%    7.453134e+06  6.726866e+06\n",
       "max    9.987963e+06  9.985106e+06"
      ]
     },
     "execution_count": 29,
     "metadata": {},
     "output_type": "execute_result"
    }
   ],
   "source": [
    "df[['amount_zar', 'total_value']].describe()"
   ]
  },
  {
   "cell_type": "markdown",
   "id": "2f7e0f40",
   "metadata": {},
   "source": [
    "## Cleaning Date Fields"
   ]
  },
  {
   "cell_type": "markdown",
   "id": "089d262c",
   "metadata": {},
   "source": [
    "### Convert dates to datetime format"
   ]
  },
  {
   "cell_type": "code",
   "execution_count": 30,
   "id": "d6becbb9",
   "metadata": {},
   "outputs": [
    {
     "data": {
      "application/vnd.microsoft.datawrangler.viewer.v0+json": {
       "columns": [
        {
         "name": "index",
         "rawType": "int64",
         "type": "integer"
        },
        {
         "name": "partner",
         "rawType": "object",
         "type": "string"
        },
        {
         "name": "amount_zar",
         "rawType": "float64",
         "type": "float"
        },
        {
         "name": "start_date",
         "rawType": "datetime64[ns]",
         "type": "datetime"
        },
        {
         "name": "end_date",
         "rawType": "datetime64[ns]",
         "type": "datetime"
        },
        {
         "name": "requirements",
         "rawType": "object",
         "type": "string"
        },
        {
         "name": "status",
         "rawType": "object",
         "type": "string"
        },
        {
         "name": "first_name",
         "rawType": "object",
         "type": "string"
        },
        {
         "name": "last_name",
         "rawType": "object",
         "type": "string"
        },
        {
         "name": "email",
         "rawType": "object",
         "type": "string"
        },
        {
         "name": "total_value",
         "rawType": "float64",
         "type": "float"
        },
        {
         "name": "payment_frequency",
         "rawType": "object",
         "type": "string"
        },
        {
         "name": "payment_allocations",
         "rawType": "object",
         "type": "string"
        },
        {
         "name": "report_due_dates",
         "rawType": "object",
         "type": "string"
        },
        {
         "name": "hl_contact",
         "rawType": "object",
         "type": "string"
        },
        {
         "name": "hl_email",
         "rawType": "object",
         "type": "string"
        }
       ],
       "ref": "824901f6-da4f-4150-85da-50e5ef58eb8d",
       "rows": [
        [
         "0",
         "Smith-Jordan",
         "3500699.0",
         "1990-09-25 00:00:00",
         "2014-01-16 00:00:00",
         "sit",
         "Won",
         "Matthew",
         "Larson",
         "simmonsjudith@example.com",
         "3500699.0",
         "Annually",
         "Common cover candidate boy.",
         "Arrive avoid final then.",
         "Jimmy",
         "smithdawn@example.net"
        ],
        [
         "1",
         "Valentine-Hess",
         "1161237.0",
         "1993-01-03 00:00:00",
         null,
         "Agency should modern relate level son fall.",
         "Lost",
         "Christopher",
         "Wilson",
         "mmiller@example.com",
         "8573575.0",
         "Quarterly",
         "Check music forget able identify up case.",
         "Radio less six address improve organization.",
         "piece",
         "jeffreypruitt@example.net"
        ],
        [
         "2",
         "Peters, Kelly and Hines",
         "7934781.0",
         "1971-03-11 00:00:00",
         "1973-07-11 00:00:00",
         "Drug finally above PM.",
         "Won",
         "Stephanie",
         "Alvarado",
         "juan52@example.net",
         "2866860.0",
         "Monthly",
         "Already its other one bar white sign.",
         "Whom money any.",
         "Christina",
         "pamela01@example.org"
        ],
        [
         "3",
         "Cooper Inc",
         "3185201.0",
         "1992-01-18 00:00:00",
         "1998-03-15 00:00:00",
         "Stay support loss important.",
         "Lost",
         "Julia",
         "Bond",
         "thall@example.org",
         "9240344.0",
         "Annually",
         "Company difficult side mean shake tough.",
         "Issue attorney much.",
         "say",
         "use"
        ],
        [
         "4",
         "Carter, Horton and Garcia",
         "3260316.0",
         "2003-03-20 00:00:00",
         "1998-06-27 00:00:00",
         "Might business if research blue one kind.",
         "Lost",
         "Margaret",
         "Suarez",
         "amydrake@example.net",
         "3009164.0",
         "Monthly",
         "Child everything exactly improve tree food.",
         "Discussion fill knowledge admit.",
         "Michael",
         "marc47@example.net"
        ]
       ],
       "shape": {
        "columns": 15,
        "rows": 5
       }
      },
      "text/html": [
       "<div>\n",
       "<style scoped>\n",
       "    .dataframe tbody tr th:only-of-type {\n",
       "        vertical-align: middle;\n",
       "    }\n",
       "\n",
       "    .dataframe tbody tr th {\n",
       "        vertical-align: top;\n",
       "    }\n",
       "\n",
       "    .dataframe thead th {\n",
       "        text-align: right;\n",
       "    }\n",
       "</style>\n",
       "<table border=\"1\" class=\"dataframe\">\n",
       "  <thead>\n",
       "    <tr style=\"text-align: right;\">\n",
       "      <th></th>\n",
       "      <th>partner</th>\n",
       "      <th>amount_zar</th>\n",
       "      <th>start_date</th>\n",
       "      <th>end_date</th>\n",
       "      <th>requirements</th>\n",
       "      <th>status</th>\n",
       "      <th>first_name</th>\n",
       "      <th>last_name</th>\n",
       "      <th>email</th>\n",
       "      <th>total_value</th>\n",
       "      <th>payment_frequency</th>\n",
       "      <th>payment_allocations</th>\n",
       "      <th>report_due_dates</th>\n",
       "      <th>hl_contact</th>\n",
       "      <th>hl_email</th>\n",
       "    </tr>\n",
       "  </thead>\n",
       "  <tbody>\n",
       "    <tr>\n",
       "      <th>0</th>\n",
       "      <td>Smith-Jordan</td>\n",
       "      <td>3500699.0</td>\n",
       "      <td>1990-09-25</td>\n",
       "      <td>2014-01-16</td>\n",
       "      <td>sit</td>\n",
       "      <td>Won</td>\n",
       "      <td>Matthew</td>\n",
       "      <td>Larson</td>\n",
       "      <td>simmonsjudith@example.com</td>\n",
       "      <td>3500699.0</td>\n",
       "      <td>Annually</td>\n",
       "      <td>Common cover candidate boy.</td>\n",
       "      <td>Arrive avoid final then.</td>\n",
       "      <td>Jimmy</td>\n",
       "      <td>smithdawn@example.net</td>\n",
       "    </tr>\n",
       "    <tr>\n",
       "      <th>1</th>\n",
       "      <td>Valentine-Hess</td>\n",
       "      <td>1161237.0</td>\n",
       "      <td>1993-01-03</td>\n",
       "      <td>NaT</td>\n",
       "      <td>Agency should modern relate level son fall.</td>\n",
       "      <td>Lost</td>\n",
       "      <td>Christopher</td>\n",
       "      <td>Wilson</td>\n",
       "      <td>mmiller@example.com</td>\n",
       "      <td>8573575.0</td>\n",
       "      <td>Quarterly</td>\n",
       "      <td>Check music forget able identify up case.</td>\n",
       "      <td>Radio less six address improve organization.</td>\n",
       "      <td>piece</td>\n",
       "      <td>jeffreypruitt@example.net</td>\n",
       "    </tr>\n",
       "    <tr>\n",
       "      <th>2</th>\n",
       "      <td>Peters, Kelly and Hines</td>\n",
       "      <td>7934781.0</td>\n",
       "      <td>1971-03-11</td>\n",
       "      <td>1973-07-11</td>\n",
       "      <td>Drug finally above PM.</td>\n",
       "      <td>Won</td>\n",
       "      <td>Stephanie</td>\n",
       "      <td>Alvarado</td>\n",
       "      <td>juan52@example.net</td>\n",
       "      <td>2866860.0</td>\n",
       "      <td>Monthly</td>\n",
       "      <td>Already its other one bar white sign.</td>\n",
       "      <td>Whom money any.</td>\n",
       "      <td>Christina</td>\n",
       "      <td>pamela01@example.org</td>\n",
       "    </tr>\n",
       "    <tr>\n",
       "      <th>3</th>\n",
       "      <td>Cooper Inc</td>\n",
       "      <td>3185201.0</td>\n",
       "      <td>1992-01-18</td>\n",
       "      <td>1998-03-15</td>\n",
       "      <td>Stay support loss important.</td>\n",
       "      <td>Lost</td>\n",
       "      <td>Julia</td>\n",
       "      <td>Bond</td>\n",
       "      <td>thall@example.org</td>\n",
       "      <td>9240344.0</td>\n",
       "      <td>Annually</td>\n",
       "      <td>Company difficult side mean shake tough.</td>\n",
       "      <td>Issue attorney much.</td>\n",
       "      <td>say</td>\n",
       "      <td>use</td>\n",
       "    </tr>\n",
       "    <tr>\n",
       "      <th>4</th>\n",
       "      <td>Carter, Horton and Garcia</td>\n",
       "      <td>3260316.0</td>\n",
       "      <td>2003-03-20</td>\n",
       "      <td>1998-06-27</td>\n",
       "      <td>Might business if research blue one kind.</td>\n",
       "      <td>Lost</td>\n",
       "      <td>Margaret</td>\n",
       "      <td>Suarez</td>\n",
       "      <td>amydrake@example.net</td>\n",
       "      <td>3009164.0</td>\n",
       "      <td>Monthly</td>\n",
       "      <td>Child everything exactly improve tree food.</td>\n",
       "      <td>Discussion fill knowledge admit.</td>\n",
       "      <td>Michael</td>\n",
       "      <td>marc47@example.net</td>\n",
       "    </tr>\n",
       "  </tbody>\n",
       "</table>\n",
       "</div>"
      ],
      "text/plain": [
       "                     partner  amount_zar start_date   end_date  \\\n",
       "0               Smith-Jordan   3500699.0 1990-09-25 2014-01-16   \n",
       "1             Valentine-Hess   1161237.0 1993-01-03        NaT   \n",
       "2    Peters, Kelly and Hines   7934781.0 1971-03-11 1973-07-11   \n",
       "3                 Cooper Inc   3185201.0 1992-01-18 1998-03-15   \n",
       "4  Carter, Horton and Garcia   3260316.0 2003-03-20 1998-06-27   \n",
       "\n",
       "                                  requirements status   first_name last_name  \\\n",
       "0                                          sit    Won      Matthew    Larson   \n",
       "1  Agency should modern relate level son fall.   Lost  Christopher    Wilson   \n",
       "2                       Drug finally above PM.    Won    Stephanie  Alvarado   \n",
       "3                 Stay support loss important.   Lost        Julia      Bond   \n",
       "4    Might business if research blue one kind.   Lost     Margaret    Suarez   \n",
       "\n",
       "                       email  total_value payment_frequency  \\\n",
       "0  simmonsjudith@example.com    3500699.0          Annually   \n",
       "1        mmiller@example.com    8573575.0         Quarterly   \n",
       "2         juan52@example.net    2866860.0           Monthly   \n",
       "3          thall@example.org    9240344.0          Annually   \n",
       "4       amydrake@example.net    3009164.0           Monthly   \n",
       "\n",
       "                           payment_allocations  \\\n",
       "0                  Common cover candidate boy.   \n",
       "1    Check music forget able identify up case.   \n",
       "2        Already its other one bar white sign.   \n",
       "3     Company difficult side mean shake tough.   \n",
       "4  Child everything exactly improve tree food.   \n",
       "\n",
       "                               report_due_dates hl_contact  \\\n",
       "0                      Arrive avoid final then.      Jimmy   \n",
       "1  Radio less six address improve organization.      piece   \n",
       "2                               Whom money any.  Christina   \n",
       "3                          Issue attorney much.        say   \n",
       "4              Discussion fill knowledge admit.    Michael   \n",
       "\n",
       "                    hl_email  \n",
       "0      smithdawn@example.net  \n",
       "1  jeffreypruitt@example.net  \n",
       "2       pamela01@example.org  \n",
       "3                        use  \n",
       "4         marc47@example.net  "
      ]
     },
     "execution_count": 30,
     "metadata": {},
     "output_type": "execute_result"
    }
   ],
   "source": [
    "df['start_date'] = pd.to_datetime(df['start_date'], errors='coerce')\n",
    "df['end_date'] = pd.to_datetime(df['end_date'], errors='coerce')\n",
    "df.head()"
   ]
  },
  {
   "cell_type": "markdown",
   "id": "b7c72f40",
   "metadata": {},
   "source": [
    "### Fixing incorrect date ranges"
   ]
  },
  {
   "cell_type": "code",
   "execution_count": 31,
   "id": "3a37830e",
   "metadata": {},
   "outputs": [
    {
     "data": {
      "application/vnd.microsoft.datawrangler.viewer.v0+json": {
       "columns": [
        {
         "name": "index",
         "rawType": "int64",
         "type": "integer"
        },
        {
         "name": "partner",
         "rawType": "object",
         "type": "string"
        },
        {
         "name": "amount_zar",
         "rawType": "float64",
         "type": "float"
        },
        {
         "name": "start_date",
         "rawType": "datetime64[ns]",
         "type": "datetime"
        },
        {
         "name": "end_date",
         "rawType": "datetime64[ns]",
         "type": "datetime"
        },
        {
         "name": "requirements",
         "rawType": "object",
         "type": "string"
        },
        {
         "name": "status",
         "rawType": "object",
         "type": "string"
        },
        {
         "name": "first_name",
         "rawType": "object",
         "type": "string"
        },
        {
         "name": "last_name",
         "rawType": "object",
         "type": "string"
        },
        {
         "name": "email",
         "rawType": "object",
         "type": "string"
        },
        {
         "name": "total_value",
         "rawType": "float64",
         "type": "float"
        },
        {
         "name": "payment_frequency",
         "rawType": "object",
         "type": "string"
        },
        {
         "name": "payment_allocations",
         "rawType": "object",
         "type": "string"
        },
        {
         "name": "report_due_dates",
         "rawType": "object",
         "type": "string"
        },
        {
         "name": "hl_contact",
         "rawType": "object",
         "type": "string"
        },
        {
         "name": "hl_email",
         "rawType": "object",
         "type": "string"
        }
       ],
       "ref": "63470ae2-34b1-4efb-a30b-3acc68ef1a15",
       "rows": [
        [
         "0",
         "Smith-Jordan",
         "3500699.0",
         "1990-09-25 00:00:00",
         "2014-01-16 00:00:00",
         "sit",
         "Won",
         "Matthew",
         "Larson",
         "simmonsjudith@example.com",
         "3500699.0",
         "Annually",
         "Common cover candidate boy.",
         "Arrive avoid final then.",
         "Jimmy",
         "smithdawn@example.net"
        ],
        [
         "1",
         "Valentine-Hess",
         "1161237.0",
         "1993-01-03 00:00:00",
         null,
         "Agency should modern relate level son fall.",
         "Lost",
         "Christopher",
         "Wilson",
         "mmiller@example.com",
         "8573575.0",
         "Quarterly",
         "Check music forget able identify up case.",
         "Radio less six address improve organization.",
         "piece",
         "jeffreypruitt@example.net"
        ],
        [
         "2",
         "Peters, Kelly and Hines",
         "7934781.0",
         "1971-03-11 00:00:00",
         "1973-07-11 00:00:00",
         "Drug finally above PM.",
         "Won",
         "Stephanie",
         "Alvarado",
         "juan52@example.net",
         "2866860.0",
         "Monthly",
         "Already its other one bar white sign.",
         "Whom money any.",
         "Christina",
         "pamela01@example.org"
        ],
        [
         "3",
         "Cooper Inc",
         "3185201.0",
         "1992-01-18 00:00:00",
         "1998-03-15 00:00:00",
         "Stay support loss important.",
         "Lost",
         "Julia",
         "Bond",
         "thall@example.org",
         "9240344.0",
         "Annually",
         "Company difficult side mean shake tough.",
         "Issue attorney much.",
         "say",
         "use"
        ],
        [
         "4",
         "Carter, Horton and Garcia",
         "3260316.0",
         null,
         null,
         "Might business if research blue one kind.",
         "Lost",
         "Margaret",
         "Suarez",
         "amydrake@example.net",
         "3009164.0",
         "Monthly",
         "Child everything exactly improve tree food.",
         "Discussion fill knowledge admit.",
         "Michael",
         "marc47@example.net"
        ]
       ],
       "shape": {
        "columns": 15,
        "rows": 5
       }
      },
      "text/html": [
       "<div>\n",
       "<style scoped>\n",
       "    .dataframe tbody tr th:only-of-type {\n",
       "        vertical-align: middle;\n",
       "    }\n",
       "\n",
       "    .dataframe tbody tr th {\n",
       "        vertical-align: top;\n",
       "    }\n",
       "\n",
       "    .dataframe thead th {\n",
       "        text-align: right;\n",
       "    }\n",
       "</style>\n",
       "<table border=\"1\" class=\"dataframe\">\n",
       "  <thead>\n",
       "    <tr style=\"text-align: right;\">\n",
       "      <th></th>\n",
       "      <th>partner</th>\n",
       "      <th>amount_zar</th>\n",
       "      <th>start_date</th>\n",
       "      <th>end_date</th>\n",
       "      <th>requirements</th>\n",
       "      <th>status</th>\n",
       "      <th>first_name</th>\n",
       "      <th>last_name</th>\n",
       "      <th>email</th>\n",
       "      <th>total_value</th>\n",
       "      <th>payment_frequency</th>\n",
       "      <th>payment_allocations</th>\n",
       "      <th>report_due_dates</th>\n",
       "      <th>hl_contact</th>\n",
       "      <th>hl_email</th>\n",
       "    </tr>\n",
       "  </thead>\n",
       "  <tbody>\n",
       "    <tr>\n",
       "      <th>0</th>\n",
       "      <td>Smith-Jordan</td>\n",
       "      <td>3500699.0</td>\n",
       "      <td>1990-09-25</td>\n",
       "      <td>2014-01-16</td>\n",
       "      <td>sit</td>\n",
       "      <td>Won</td>\n",
       "      <td>Matthew</td>\n",
       "      <td>Larson</td>\n",
       "      <td>simmonsjudith@example.com</td>\n",
       "      <td>3500699.0</td>\n",
       "      <td>Annually</td>\n",
       "      <td>Common cover candidate boy.</td>\n",
       "      <td>Arrive avoid final then.</td>\n",
       "      <td>Jimmy</td>\n",
       "      <td>smithdawn@example.net</td>\n",
       "    </tr>\n",
       "    <tr>\n",
       "      <th>1</th>\n",
       "      <td>Valentine-Hess</td>\n",
       "      <td>1161237.0</td>\n",
       "      <td>1993-01-03</td>\n",
       "      <td>NaT</td>\n",
       "      <td>Agency should modern relate level son fall.</td>\n",
       "      <td>Lost</td>\n",
       "      <td>Christopher</td>\n",
       "      <td>Wilson</td>\n",
       "      <td>mmiller@example.com</td>\n",
       "      <td>8573575.0</td>\n",
       "      <td>Quarterly</td>\n",
       "      <td>Check music forget able identify up case.</td>\n",
       "      <td>Radio less six address improve organization.</td>\n",
       "      <td>piece</td>\n",
       "      <td>jeffreypruitt@example.net</td>\n",
       "    </tr>\n",
       "    <tr>\n",
       "      <th>2</th>\n",
       "      <td>Peters, Kelly and Hines</td>\n",
       "      <td>7934781.0</td>\n",
       "      <td>1971-03-11</td>\n",
       "      <td>1973-07-11</td>\n",
       "      <td>Drug finally above PM.</td>\n",
       "      <td>Won</td>\n",
       "      <td>Stephanie</td>\n",
       "      <td>Alvarado</td>\n",
       "      <td>juan52@example.net</td>\n",
       "      <td>2866860.0</td>\n",
       "      <td>Monthly</td>\n",
       "      <td>Already its other one bar white sign.</td>\n",
       "      <td>Whom money any.</td>\n",
       "      <td>Christina</td>\n",
       "      <td>pamela01@example.org</td>\n",
       "    </tr>\n",
       "    <tr>\n",
       "      <th>3</th>\n",
       "      <td>Cooper Inc</td>\n",
       "      <td>3185201.0</td>\n",
       "      <td>1992-01-18</td>\n",
       "      <td>1998-03-15</td>\n",
       "      <td>Stay support loss important.</td>\n",
       "      <td>Lost</td>\n",
       "      <td>Julia</td>\n",
       "      <td>Bond</td>\n",
       "      <td>thall@example.org</td>\n",
       "      <td>9240344.0</td>\n",
       "      <td>Annually</td>\n",
       "      <td>Company difficult side mean shake tough.</td>\n",
       "      <td>Issue attorney much.</td>\n",
       "      <td>say</td>\n",
       "      <td>use</td>\n",
       "    </tr>\n",
       "    <tr>\n",
       "      <th>4</th>\n",
       "      <td>Carter, Horton and Garcia</td>\n",
       "      <td>3260316.0</td>\n",
       "      <td>NaT</td>\n",
       "      <td>NaT</td>\n",
       "      <td>Might business if research blue one kind.</td>\n",
       "      <td>Lost</td>\n",
       "      <td>Margaret</td>\n",
       "      <td>Suarez</td>\n",
       "      <td>amydrake@example.net</td>\n",
       "      <td>3009164.0</td>\n",
       "      <td>Monthly</td>\n",
       "      <td>Child everything exactly improve tree food.</td>\n",
       "      <td>Discussion fill knowledge admit.</td>\n",
       "      <td>Michael</td>\n",
       "      <td>marc47@example.net</td>\n",
       "    </tr>\n",
       "  </tbody>\n",
       "</table>\n",
       "</div>"
      ],
      "text/plain": [
       "                     partner  amount_zar start_date   end_date  \\\n",
       "0               Smith-Jordan   3500699.0 1990-09-25 2014-01-16   \n",
       "1             Valentine-Hess   1161237.0 1993-01-03        NaT   \n",
       "2    Peters, Kelly and Hines   7934781.0 1971-03-11 1973-07-11   \n",
       "3                 Cooper Inc   3185201.0 1992-01-18 1998-03-15   \n",
       "4  Carter, Horton and Garcia   3260316.0        NaT        NaT   \n",
       "\n",
       "                                  requirements status   first_name last_name  \\\n",
       "0                                          sit    Won      Matthew    Larson   \n",
       "1  Agency should modern relate level son fall.   Lost  Christopher    Wilson   \n",
       "2                       Drug finally above PM.    Won    Stephanie  Alvarado   \n",
       "3                 Stay support loss important.   Lost        Julia      Bond   \n",
       "4    Might business if research blue one kind.   Lost     Margaret    Suarez   \n",
       "\n",
       "                       email  total_value payment_frequency  \\\n",
       "0  simmonsjudith@example.com    3500699.0          Annually   \n",
       "1        mmiller@example.com    8573575.0         Quarterly   \n",
       "2         juan52@example.net    2866860.0           Monthly   \n",
       "3          thall@example.org    9240344.0          Annually   \n",
       "4       amydrake@example.net    3009164.0           Monthly   \n",
       "\n",
       "                           payment_allocations  \\\n",
       "0                  Common cover candidate boy.   \n",
       "1    Check music forget able identify up case.   \n",
       "2        Already its other one bar white sign.   \n",
       "3     Company difficult side mean shake tough.   \n",
       "4  Child everything exactly improve tree food.   \n",
       "\n",
       "                               report_due_dates hl_contact  \\\n",
       "0                      Arrive avoid final then.      Jimmy   \n",
       "1  Radio less six address improve organization.      piece   \n",
       "2                               Whom money any.  Christina   \n",
       "3                          Issue attorney much.        say   \n",
       "4              Discussion fill knowledge admit.    Michael   \n",
       "\n",
       "                    hl_email  \n",
       "0      smithdawn@example.net  \n",
       "1  jeffreypruitt@example.net  \n",
       "2       pamela01@example.org  \n",
       "3                        use  \n",
       "4         marc47@example.net  "
      ]
     },
     "execution_count": 31,
     "metadata": {},
     "output_type": "execute_result"
    }
   ],
   "source": [
    "date_mask = df['end_date'] < df['start_date']\n",
    "df.loc[date_mask, ['start_date', 'end_date']] = np.nan\n",
    "df.head()"
   ]
  },
  {
   "cell_type": "markdown",
   "id": "05d0e621",
   "metadata": {},
   "source": [
    "### Displaying date ranges"
   ]
  },
  {
   "cell_type": "code",
   "execution_count": 32,
   "id": "b8228890",
   "metadata": {},
   "outputs": [
    {
     "name": "stdout",
     "output_type": "stream",
     "text": [
      "Date Range Issues Fixed: 45\n"
     ]
    },
    {
     "data": {
      "application/vnd.microsoft.datawrangler.viewer.v0+json": {
       "columns": [
        {
         "name": "index",
         "rawType": "object",
         "type": "string"
        },
        {
         "name": "start_date",
         "rawType": "object",
         "type": "unknown"
        },
        {
         "name": "end_date",
         "rawType": "object",
         "type": "unknown"
        }
       ],
       "ref": "ea0445d0-31cd-4eaf-b4d8-495cc5a5890e",
       "rows": [
        [
         "count",
         "49",
         "41"
        ],
        [
         "mean",
         "1988-03-07 23:30:36.734693888",
         "2002-11-30 14:38:02.926829312"
        ],
        [
         "min",
         "1970-09-10 00:00:00",
         "1973-07-11 00:00:00"
        ],
        [
         "25%",
         "1975-05-03 00:00:00",
         "1992-06-14 00:00:00"
        ],
        [
         "50%",
         "1983-07-18 00:00:00",
         "2001-10-19 00:00:00"
        ],
        [
         "75%",
         "2000-03-31 00:00:00",
         "2016-11-20 00:00:00"
        ],
        [
         "max",
         "2022-09-25 00:00:00",
         "2024-11-01 00:00:00"
        ]
       ],
       "shape": {
        "columns": 2,
        "rows": 7
       }
      },
      "text/html": [
       "<div>\n",
       "<style scoped>\n",
       "    .dataframe tbody tr th:only-of-type {\n",
       "        vertical-align: middle;\n",
       "    }\n",
       "\n",
       "    .dataframe tbody tr th {\n",
       "        vertical-align: top;\n",
       "    }\n",
       "\n",
       "    .dataframe thead th {\n",
       "        text-align: right;\n",
       "    }\n",
       "</style>\n",
       "<table border=\"1\" class=\"dataframe\">\n",
       "  <thead>\n",
       "    <tr style=\"text-align: right;\">\n",
       "      <th></th>\n",
       "      <th>start_date</th>\n",
       "      <th>end_date</th>\n",
       "    </tr>\n",
       "  </thead>\n",
       "  <tbody>\n",
       "    <tr>\n",
       "      <th>count</th>\n",
       "      <td>49</td>\n",
       "      <td>41</td>\n",
       "    </tr>\n",
       "    <tr>\n",
       "      <th>mean</th>\n",
       "      <td>1988-03-07 23:30:36.734693888</td>\n",
       "      <td>2002-11-30 14:38:02.926829312</td>\n",
       "    </tr>\n",
       "    <tr>\n",
       "      <th>min</th>\n",
       "      <td>1970-09-10 00:00:00</td>\n",
       "      <td>1973-07-11 00:00:00</td>\n",
       "    </tr>\n",
       "    <tr>\n",
       "      <th>25%</th>\n",
       "      <td>1975-05-03 00:00:00</td>\n",
       "      <td>1992-06-14 00:00:00</td>\n",
       "    </tr>\n",
       "    <tr>\n",
       "      <th>50%</th>\n",
       "      <td>1983-07-18 00:00:00</td>\n",
       "      <td>2001-10-19 00:00:00</td>\n",
       "    </tr>\n",
       "    <tr>\n",
       "      <th>75%</th>\n",
       "      <td>2000-03-31 00:00:00</td>\n",
       "      <td>2016-11-20 00:00:00</td>\n",
       "    </tr>\n",
       "    <tr>\n",
       "      <th>max</th>\n",
       "      <td>2022-09-25 00:00:00</td>\n",
       "      <td>2024-11-01 00:00:00</td>\n",
       "    </tr>\n",
       "  </tbody>\n",
       "</table>\n",
       "</div>"
      ],
      "text/plain": [
       "                          start_date                       end_date\n",
       "count                             49                             41\n",
       "mean   1988-03-07 23:30:36.734693888  2002-11-30 14:38:02.926829312\n",
       "min              1970-09-10 00:00:00            1973-07-11 00:00:00\n",
       "25%              1975-05-03 00:00:00            1992-06-14 00:00:00\n",
       "50%              1983-07-18 00:00:00            2001-10-19 00:00:00\n",
       "75%              2000-03-31 00:00:00            2016-11-20 00:00:00\n",
       "max              2022-09-25 00:00:00            2024-11-01 00:00:00"
      ]
     },
     "execution_count": 32,
     "metadata": {},
     "output_type": "execute_result"
    }
   ],
   "source": [
    "print(\"Date Range Issues Fixed:\", date_mask.sum())\n",
    "df[['start_date', 'end_date']].describe()"
   ]
  },
  {
   "cell_type": "markdown",
   "id": "24eadc24",
   "metadata": {},
   "source": [
    "## Cleaning Text Fields"
   ]
  },
  {
   "cell_type": "markdown",
   "id": "3564e066",
   "metadata": {},
   "source": [
    "### Standardizing status"
   ]
  },
  {
   "cell_type": "code",
   "execution_count": 33,
   "id": "c7f99462",
   "metadata": {},
   "outputs": [
    {
     "data": {
      "application/vnd.microsoft.datawrangler.viewer.v0+json": {
       "columns": [
        {
         "name": "index",
         "rawType": "int64",
         "type": "integer"
        },
        {
         "name": "partner",
         "rawType": "object",
         "type": "string"
        },
        {
         "name": "amount_zar",
         "rawType": "float64",
         "type": "float"
        },
        {
         "name": "start_date",
         "rawType": "datetime64[ns]",
         "type": "datetime"
        },
        {
         "name": "end_date",
         "rawType": "datetime64[ns]",
         "type": "datetime"
        },
        {
         "name": "requirements",
         "rawType": "object",
         "type": "string"
        },
        {
         "name": "status",
         "rawType": "object",
         "type": "string"
        },
        {
         "name": "first_name",
         "rawType": "object",
         "type": "string"
        },
        {
         "name": "last_name",
         "rawType": "object",
         "type": "string"
        },
        {
         "name": "email",
         "rawType": "object",
         "type": "string"
        },
        {
         "name": "total_value",
         "rawType": "float64",
         "type": "float"
        },
        {
         "name": "payment_frequency",
         "rawType": "object",
         "type": "string"
        },
        {
         "name": "payment_allocations",
         "rawType": "object",
         "type": "string"
        },
        {
         "name": "report_due_dates",
         "rawType": "object",
         "type": "string"
        },
        {
         "name": "hl_contact",
         "rawType": "object",
         "type": "string"
        },
        {
         "name": "hl_email",
         "rawType": "object",
         "type": "string"
        }
       ],
       "ref": "a5db1721-fae3-4514-b5c3-6448141e140d",
       "rows": [
        [
         "0",
         "Smith-Jordan",
         "3500699.0",
         "1990-09-25 00:00:00",
         "2014-01-16 00:00:00",
         "sit",
         "Won",
         "Matthew",
         "Larson",
         "simmonsjudith@example.com",
         "3500699.0",
         "Annually",
         "Common cover candidate boy.",
         "Arrive avoid final then.",
         "Jimmy",
         "smithdawn@example.net"
        ],
        [
         "1",
         "Valentine-Hess",
         "1161237.0",
         "1993-01-03 00:00:00",
         null,
         "Agency should modern relate level son fall.",
         "Lost",
         "Christopher",
         "Wilson",
         "mmiller@example.com",
         "8573575.0",
         "Quarterly",
         "Check music forget able identify up case.",
         "Radio less six address improve organization.",
         "piece",
         "jeffreypruitt@example.net"
        ],
        [
         "2",
         "Peters, Kelly and Hines",
         "7934781.0",
         "1971-03-11 00:00:00",
         "1973-07-11 00:00:00",
         "Drug finally above PM.",
         "Won",
         "Stephanie",
         "Alvarado",
         "juan52@example.net",
         "2866860.0",
         "Monthly",
         "Already its other one bar white sign.",
         "Whom money any.",
         "Christina",
         "pamela01@example.org"
        ],
        [
         "3",
         "Cooper Inc",
         "3185201.0",
         "1992-01-18 00:00:00",
         "1998-03-15 00:00:00",
         "Stay support loss important.",
         "Lost",
         "Julia",
         "Bond",
         "thall@example.org",
         "9240344.0",
         "Annually",
         "Company difficult side mean shake tough.",
         "Issue attorney much.",
         "say",
         "use"
        ],
        [
         "4",
         "Carter, Horton and Garcia",
         "3260316.0",
         null,
         null,
         "Might business if research blue one kind.",
         "Lost",
         "Margaret",
         "Suarez",
         "amydrake@example.net",
         "3009164.0",
         "Monthly",
         "Child everything exactly improve tree food.",
         "Discussion fill knowledge admit.",
         "Michael",
         "marc47@example.net"
        ]
       ],
       "shape": {
        "columns": 15,
        "rows": 5
       }
      },
      "text/html": [
       "<div>\n",
       "<style scoped>\n",
       "    .dataframe tbody tr th:only-of-type {\n",
       "        vertical-align: middle;\n",
       "    }\n",
       "\n",
       "    .dataframe tbody tr th {\n",
       "        vertical-align: top;\n",
       "    }\n",
       "\n",
       "    .dataframe thead th {\n",
       "        text-align: right;\n",
       "    }\n",
       "</style>\n",
       "<table border=\"1\" class=\"dataframe\">\n",
       "  <thead>\n",
       "    <tr style=\"text-align: right;\">\n",
       "      <th></th>\n",
       "      <th>partner</th>\n",
       "      <th>amount_zar</th>\n",
       "      <th>start_date</th>\n",
       "      <th>end_date</th>\n",
       "      <th>requirements</th>\n",
       "      <th>status</th>\n",
       "      <th>first_name</th>\n",
       "      <th>last_name</th>\n",
       "      <th>email</th>\n",
       "      <th>total_value</th>\n",
       "      <th>payment_frequency</th>\n",
       "      <th>payment_allocations</th>\n",
       "      <th>report_due_dates</th>\n",
       "      <th>hl_contact</th>\n",
       "      <th>hl_email</th>\n",
       "    </tr>\n",
       "  </thead>\n",
       "  <tbody>\n",
       "    <tr>\n",
       "      <th>0</th>\n",
       "      <td>Smith-Jordan</td>\n",
       "      <td>3500699.0</td>\n",
       "      <td>1990-09-25</td>\n",
       "      <td>2014-01-16</td>\n",
       "      <td>sit</td>\n",
       "      <td>Won</td>\n",
       "      <td>Matthew</td>\n",
       "      <td>Larson</td>\n",
       "      <td>simmonsjudith@example.com</td>\n",
       "      <td>3500699.0</td>\n",
       "      <td>Annually</td>\n",
       "      <td>Common cover candidate boy.</td>\n",
       "      <td>Arrive avoid final then.</td>\n",
       "      <td>Jimmy</td>\n",
       "      <td>smithdawn@example.net</td>\n",
       "    </tr>\n",
       "    <tr>\n",
       "      <th>1</th>\n",
       "      <td>Valentine-Hess</td>\n",
       "      <td>1161237.0</td>\n",
       "      <td>1993-01-03</td>\n",
       "      <td>NaT</td>\n",
       "      <td>Agency should modern relate level son fall.</td>\n",
       "      <td>Lost</td>\n",
       "      <td>Christopher</td>\n",
       "      <td>Wilson</td>\n",
       "      <td>mmiller@example.com</td>\n",
       "      <td>8573575.0</td>\n",
       "      <td>Quarterly</td>\n",
       "      <td>Check music forget able identify up case.</td>\n",
       "      <td>Radio less six address improve organization.</td>\n",
       "      <td>piece</td>\n",
       "      <td>jeffreypruitt@example.net</td>\n",
       "    </tr>\n",
       "    <tr>\n",
       "      <th>2</th>\n",
       "      <td>Peters, Kelly and Hines</td>\n",
       "      <td>7934781.0</td>\n",
       "      <td>1971-03-11</td>\n",
       "      <td>1973-07-11</td>\n",
       "      <td>Drug finally above PM.</td>\n",
       "      <td>Won</td>\n",
       "      <td>Stephanie</td>\n",
       "      <td>Alvarado</td>\n",
       "      <td>juan52@example.net</td>\n",
       "      <td>2866860.0</td>\n",
       "      <td>Monthly</td>\n",
       "      <td>Already its other one bar white sign.</td>\n",
       "      <td>Whom money any.</td>\n",
       "      <td>Christina</td>\n",
       "      <td>pamela01@example.org</td>\n",
       "    </tr>\n",
       "    <tr>\n",
       "      <th>3</th>\n",
       "      <td>Cooper Inc</td>\n",
       "      <td>3185201.0</td>\n",
       "      <td>1992-01-18</td>\n",
       "      <td>1998-03-15</td>\n",
       "      <td>Stay support loss important.</td>\n",
       "      <td>Lost</td>\n",
       "      <td>Julia</td>\n",
       "      <td>Bond</td>\n",
       "      <td>thall@example.org</td>\n",
       "      <td>9240344.0</td>\n",
       "      <td>Annually</td>\n",
       "      <td>Company difficult side mean shake tough.</td>\n",
       "      <td>Issue attorney much.</td>\n",
       "      <td>say</td>\n",
       "      <td>use</td>\n",
       "    </tr>\n",
       "    <tr>\n",
       "      <th>4</th>\n",
       "      <td>Carter, Horton and Garcia</td>\n",
       "      <td>3260316.0</td>\n",
       "      <td>NaT</td>\n",
       "      <td>NaT</td>\n",
       "      <td>Might business if research blue one kind.</td>\n",
       "      <td>Lost</td>\n",
       "      <td>Margaret</td>\n",
       "      <td>Suarez</td>\n",
       "      <td>amydrake@example.net</td>\n",
       "      <td>3009164.0</td>\n",
       "      <td>Monthly</td>\n",
       "      <td>Child everything exactly improve tree food.</td>\n",
       "      <td>Discussion fill knowledge admit.</td>\n",
       "      <td>Michael</td>\n",
       "      <td>marc47@example.net</td>\n",
       "    </tr>\n",
       "  </tbody>\n",
       "</table>\n",
       "</div>"
      ],
      "text/plain": [
       "                     partner  amount_zar start_date   end_date  \\\n",
       "0               Smith-Jordan   3500699.0 1990-09-25 2014-01-16   \n",
       "1             Valentine-Hess   1161237.0 1993-01-03        NaT   \n",
       "2    Peters, Kelly and Hines   7934781.0 1971-03-11 1973-07-11   \n",
       "3                 Cooper Inc   3185201.0 1992-01-18 1998-03-15   \n",
       "4  Carter, Horton and Garcia   3260316.0        NaT        NaT   \n",
       "\n",
       "                                  requirements status   first_name last_name  \\\n",
       "0                                          sit    Won      Matthew    Larson   \n",
       "1  Agency should modern relate level son fall.   Lost  Christopher    Wilson   \n",
       "2                       Drug finally above PM.    Won    Stephanie  Alvarado   \n",
       "3                 Stay support loss important.   Lost        Julia      Bond   \n",
       "4    Might business if research blue one kind.   Lost     Margaret    Suarez   \n",
       "\n",
       "                       email  total_value payment_frequency  \\\n",
       "0  simmonsjudith@example.com    3500699.0          Annually   \n",
       "1        mmiller@example.com    8573575.0         Quarterly   \n",
       "2         juan52@example.net    2866860.0           Monthly   \n",
       "3          thall@example.org    9240344.0          Annually   \n",
       "4       amydrake@example.net    3009164.0           Monthly   \n",
       "\n",
       "                           payment_allocations  \\\n",
       "0                  Common cover candidate boy.   \n",
       "1    Check music forget able identify up case.   \n",
       "2        Already its other one bar white sign.   \n",
       "3     Company difficult side mean shake tough.   \n",
       "4  Child everything exactly improve tree food.   \n",
       "\n",
       "                               report_due_dates hl_contact  \\\n",
       "0                      Arrive avoid final then.      Jimmy   \n",
       "1  Radio less six address improve organization.      piece   \n",
       "2                               Whom money any.  Christina   \n",
       "3                          Issue attorney much.        say   \n",
       "4              Discussion fill knowledge admit.    Michael   \n",
       "\n",
       "                    hl_email  \n",
       "0      smithdawn@example.net  \n",
       "1  jeffreypruitt@example.net  \n",
       "2       pamela01@example.org  \n",
       "3                        use  \n",
       "4         marc47@example.net  "
      ]
     },
     "execution_count": 33,
     "metadata": {},
     "output_type": "execute_result"
    }
   ],
   "source": [
    "df['status'] = df['status'].str.title()\n",
    "df.head()"
   ]
  },
  {
   "cell_type": "markdown",
   "id": "60b65894",
   "metadata": {},
   "source": [
    "### Cleaning First and Last Names"
   ]
  },
  {
   "cell_type": "code",
   "execution_count": 34,
   "id": "b7115330",
   "metadata": {},
   "outputs": [
    {
     "data": {
      "application/vnd.microsoft.datawrangler.viewer.v0+json": {
       "columns": [
        {
         "name": "index",
         "rawType": "int64",
         "type": "integer"
        },
        {
         "name": "partner",
         "rawType": "object",
         "type": "string"
        },
        {
         "name": "amount_zar",
         "rawType": "float64",
         "type": "float"
        },
        {
         "name": "start_date",
         "rawType": "datetime64[ns]",
         "type": "datetime"
        },
        {
         "name": "end_date",
         "rawType": "datetime64[ns]",
         "type": "datetime"
        },
        {
         "name": "requirements",
         "rawType": "object",
         "type": "string"
        },
        {
         "name": "status",
         "rawType": "object",
         "type": "string"
        },
        {
         "name": "first_name",
         "rawType": "object",
         "type": "string"
        },
        {
         "name": "last_name",
         "rawType": "object",
         "type": "string"
        },
        {
         "name": "email",
         "rawType": "object",
         "type": "string"
        },
        {
         "name": "total_value",
         "rawType": "float64",
         "type": "float"
        },
        {
         "name": "payment_frequency",
         "rawType": "object",
         "type": "string"
        },
        {
         "name": "payment_allocations",
         "rawType": "object",
         "type": "string"
        },
        {
         "name": "report_due_dates",
         "rawType": "object",
         "type": "string"
        },
        {
         "name": "hl_contact",
         "rawType": "object",
         "type": "string"
        },
        {
         "name": "hl_email",
         "rawType": "object",
         "type": "string"
        }
       ],
       "ref": "d4df6d4d-e758-49f2-9da8-7756bbdd136a",
       "rows": [
        [
         "0",
         "Smith-Jordan",
         "3500699.0",
         "1990-09-25 00:00:00",
         "2014-01-16 00:00:00",
         "sit",
         "Won",
         "Matthew",
         "Larson",
         "simmonsjudith@example.com",
         "3500699.0",
         "Annually",
         "Common cover candidate boy.",
         "Arrive avoid final then.",
         "Jimmy",
         "smithdawn@example.net"
        ],
        [
         "1",
         "Valentine-Hess",
         "1161237.0",
         "1993-01-03 00:00:00",
         null,
         "Agency should modern relate level son fall.",
         "Lost",
         "Christopher",
         "Wilson",
         "mmiller@example.com",
         "8573575.0",
         "Quarterly",
         "Check music forget able identify up case.",
         "Radio less six address improve organization.",
         "piece",
         "jeffreypruitt@example.net"
        ],
        [
         "2",
         "Peters, Kelly and Hines",
         "7934781.0",
         "1971-03-11 00:00:00",
         "1973-07-11 00:00:00",
         "Drug finally above PM.",
         "Won",
         "Stephanie",
         "Alvarado",
         "juan52@example.net",
         "2866860.0",
         "Monthly",
         "Already its other one bar white sign.",
         "Whom money any.",
         "Christina",
         "pamela01@example.org"
        ],
        [
         "3",
         "Cooper Inc",
         "3185201.0",
         "1992-01-18 00:00:00",
         "1998-03-15 00:00:00",
         "Stay support loss important.",
         "Lost",
         "Julia",
         "Bond",
         "thall@example.org",
         "9240344.0",
         "Annually",
         "Company difficult side mean shake tough.",
         "Issue attorney much.",
         "say",
         "use"
        ],
        [
         "4",
         "Carter, Horton and Garcia",
         "3260316.0",
         null,
         null,
         "Might business if research blue one kind.",
         "Lost",
         "Margaret",
         "Suarez",
         "amydrake@example.net",
         "3009164.0",
         "Monthly",
         "Child everything exactly improve tree food.",
         "Discussion fill knowledge admit.",
         "Michael",
         "marc47@example.net"
        ]
       ],
       "shape": {
        "columns": 15,
        "rows": 5
       }
      },
      "text/html": [
       "<div>\n",
       "<style scoped>\n",
       "    .dataframe tbody tr th:only-of-type {\n",
       "        vertical-align: middle;\n",
       "    }\n",
       "\n",
       "    .dataframe tbody tr th {\n",
       "        vertical-align: top;\n",
       "    }\n",
       "\n",
       "    .dataframe thead th {\n",
       "        text-align: right;\n",
       "    }\n",
       "</style>\n",
       "<table border=\"1\" class=\"dataframe\">\n",
       "  <thead>\n",
       "    <tr style=\"text-align: right;\">\n",
       "      <th></th>\n",
       "      <th>partner</th>\n",
       "      <th>amount_zar</th>\n",
       "      <th>start_date</th>\n",
       "      <th>end_date</th>\n",
       "      <th>requirements</th>\n",
       "      <th>status</th>\n",
       "      <th>first_name</th>\n",
       "      <th>last_name</th>\n",
       "      <th>email</th>\n",
       "      <th>total_value</th>\n",
       "      <th>payment_frequency</th>\n",
       "      <th>payment_allocations</th>\n",
       "      <th>report_due_dates</th>\n",
       "      <th>hl_contact</th>\n",
       "      <th>hl_email</th>\n",
       "    </tr>\n",
       "  </thead>\n",
       "  <tbody>\n",
       "    <tr>\n",
       "      <th>0</th>\n",
       "      <td>Smith-Jordan</td>\n",
       "      <td>3500699.0</td>\n",
       "      <td>1990-09-25</td>\n",
       "      <td>2014-01-16</td>\n",
       "      <td>sit</td>\n",
       "      <td>Won</td>\n",
       "      <td>Matthew</td>\n",
       "      <td>Larson</td>\n",
       "      <td>simmonsjudith@example.com</td>\n",
       "      <td>3500699.0</td>\n",
       "      <td>Annually</td>\n",
       "      <td>Common cover candidate boy.</td>\n",
       "      <td>Arrive avoid final then.</td>\n",
       "      <td>Jimmy</td>\n",
       "      <td>smithdawn@example.net</td>\n",
       "    </tr>\n",
       "    <tr>\n",
       "      <th>1</th>\n",
       "      <td>Valentine-Hess</td>\n",
       "      <td>1161237.0</td>\n",
       "      <td>1993-01-03</td>\n",
       "      <td>NaT</td>\n",
       "      <td>Agency should modern relate level son fall.</td>\n",
       "      <td>Lost</td>\n",
       "      <td>Christopher</td>\n",
       "      <td>Wilson</td>\n",
       "      <td>mmiller@example.com</td>\n",
       "      <td>8573575.0</td>\n",
       "      <td>Quarterly</td>\n",
       "      <td>Check music forget able identify up case.</td>\n",
       "      <td>Radio less six address improve organization.</td>\n",
       "      <td>piece</td>\n",
       "      <td>jeffreypruitt@example.net</td>\n",
       "    </tr>\n",
       "    <tr>\n",
       "      <th>2</th>\n",
       "      <td>Peters, Kelly and Hines</td>\n",
       "      <td>7934781.0</td>\n",
       "      <td>1971-03-11</td>\n",
       "      <td>1973-07-11</td>\n",
       "      <td>Drug finally above PM.</td>\n",
       "      <td>Won</td>\n",
       "      <td>Stephanie</td>\n",
       "      <td>Alvarado</td>\n",
       "      <td>juan52@example.net</td>\n",
       "      <td>2866860.0</td>\n",
       "      <td>Monthly</td>\n",
       "      <td>Already its other one bar white sign.</td>\n",
       "      <td>Whom money any.</td>\n",
       "      <td>Christina</td>\n",
       "      <td>pamela01@example.org</td>\n",
       "    </tr>\n",
       "    <tr>\n",
       "      <th>3</th>\n",
       "      <td>Cooper Inc</td>\n",
       "      <td>3185201.0</td>\n",
       "      <td>1992-01-18</td>\n",
       "      <td>1998-03-15</td>\n",
       "      <td>Stay support loss important.</td>\n",
       "      <td>Lost</td>\n",
       "      <td>Julia</td>\n",
       "      <td>Bond</td>\n",
       "      <td>thall@example.org</td>\n",
       "      <td>9240344.0</td>\n",
       "      <td>Annually</td>\n",
       "      <td>Company difficult side mean shake tough.</td>\n",
       "      <td>Issue attorney much.</td>\n",
       "      <td>say</td>\n",
       "      <td>use</td>\n",
       "    </tr>\n",
       "    <tr>\n",
       "      <th>4</th>\n",
       "      <td>Carter, Horton and Garcia</td>\n",
       "      <td>3260316.0</td>\n",
       "      <td>NaT</td>\n",
       "      <td>NaT</td>\n",
       "      <td>Might business if research blue one kind.</td>\n",
       "      <td>Lost</td>\n",
       "      <td>Margaret</td>\n",
       "      <td>Suarez</td>\n",
       "      <td>amydrake@example.net</td>\n",
       "      <td>3009164.0</td>\n",
       "      <td>Monthly</td>\n",
       "      <td>Child everything exactly improve tree food.</td>\n",
       "      <td>Discussion fill knowledge admit.</td>\n",
       "      <td>Michael</td>\n",
       "      <td>marc47@example.net</td>\n",
       "    </tr>\n",
       "  </tbody>\n",
       "</table>\n",
       "</div>"
      ],
      "text/plain": [
       "                     partner  amount_zar start_date   end_date  \\\n",
       "0               Smith-Jordan   3500699.0 1990-09-25 2014-01-16   \n",
       "1             Valentine-Hess   1161237.0 1993-01-03        NaT   \n",
       "2    Peters, Kelly and Hines   7934781.0 1971-03-11 1973-07-11   \n",
       "3                 Cooper Inc   3185201.0 1992-01-18 1998-03-15   \n",
       "4  Carter, Horton and Garcia   3260316.0        NaT        NaT   \n",
       "\n",
       "                                  requirements status   first_name last_name  \\\n",
       "0                                          sit    Won      Matthew    Larson   \n",
       "1  Agency should modern relate level son fall.   Lost  Christopher    Wilson   \n",
       "2                       Drug finally above PM.    Won    Stephanie  Alvarado   \n",
       "3                 Stay support loss important.   Lost        Julia      Bond   \n",
       "4    Might business if research blue one kind.   Lost     Margaret    Suarez   \n",
       "\n",
       "                       email  total_value payment_frequency  \\\n",
       "0  simmonsjudith@example.com    3500699.0          Annually   \n",
       "1        mmiller@example.com    8573575.0         Quarterly   \n",
       "2         juan52@example.net    2866860.0           Monthly   \n",
       "3          thall@example.org    9240344.0          Annually   \n",
       "4       amydrake@example.net    3009164.0           Monthly   \n",
       "\n",
       "                           payment_allocations  \\\n",
       "0                  Common cover candidate boy.   \n",
       "1    Check music forget able identify up case.   \n",
       "2        Already its other one bar white sign.   \n",
       "3     Company difficult side mean shake tough.   \n",
       "4  Child everything exactly improve tree food.   \n",
       "\n",
       "                               report_due_dates hl_contact  \\\n",
       "0                      Arrive avoid final then.      Jimmy   \n",
       "1  Radio less six address improve organization.      piece   \n",
       "2                               Whom money any.  Christina   \n",
       "3                          Issue attorney much.        say   \n",
       "4              Discussion fill knowledge admit.    Michael   \n",
       "\n",
       "                    hl_email  \n",
       "0      smithdawn@example.net  \n",
       "1  jeffreypruitt@example.net  \n",
       "2       pamela01@example.org  \n",
       "3                        use  \n",
       "4         marc47@example.net  "
      ]
     },
     "execution_count": 34,
     "metadata": {},
     "output_type": "execute_result"
    }
   ],
   "source": [
    "invalid_names = ['', 'Unknown', 'N/A', None]\n",
    "\n",
    "df.loc[df['first_name'].isin(invalid_names), 'first_name'] = np.nan\n",
    "df.loc[df['last_name'].isin(invalid_names), 'last_name'] = np.nan\n",
    "df.head()"
   ]
  },
  {
   "cell_type": "markdown",
   "id": "bc1da0b7",
   "metadata": {},
   "source": [
    "### Cleaning Emails"
   ]
  },
  {
   "cell_type": "code",
   "execution_count": 35,
   "id": "b434b591",
   "metadata": {},
   "outputs": [
    {
     "data": {
      "application/vnd.microsoft.datawrangler.viewer.v0+json": {
       "columns": [
        {
         "name": "index",
         "rawType": "int64",
         "type": "integer"
        },
        {
         "name": "partner",
         "rawType": "object",
         "type": "string"
        },
        {
         "name": "amount_zar",
         "rawType": "float64",
         "type": "float"
        },
        {
         "name": "start_date",
         "rawType": "datetime64[ns]",
         "type": "datetime"
        },
        {
         "name": "end_date",
         "rawType": "datetime64[ns]",
         "type": "datetime"
        },
        {
         "name": "requirements",
         "rawType": "object",
         "type": "string"
        },
        {
         "name": "status",
         "rawType": "object",
         "type": "string"
        },
        {
         "name": "first_name",
         "rawType": "object",
         "type": "string"
        },
        {
         "name": "last_name",
         "rawType": "object",
         "type": "string"
        },
        {
         "name": "email",
         "rawType": "object",
         "type": "string"
        },
        {
         "name": "total_value",
         "rawType": "float64",
         "type": "float"
        },
        {
         "name": "payment_frequency",
         "rawType": "object",
         "type": "string"
        },
        {
         "name": "payment_allocations",
         "rawType": "object",
         "type": "string"
        },
        {
         "name": "report_due_dates",
         "rawType": "object",
         "type": "string"
        },
        {
         "name": "hl_contact",
         "rawType": "object",
         "type": "string"
        },
        {
         "name": "hl_email",
         "rawType": "object",
         "type": "unknown"
        }
       ],
       "ref": "3a728899-c98b-4a98-80aa-ba2084bfc740",
       "rows": [
        [
         "0",
         "Smith-Jordan",
         "3500699.0",
         "1990-09-25 00:00:00",
         "2014-01-16 00:00:00",
         "sit",
         "Won",
         "Matthew",
         "Larson",
         "simmonsjudith@example.com",
         "3500699.0",
         "Annually",
         "Common cover candidate boy.",
         "Arrive avoid final then.",
         "Jimmy",
         "smithdawn@example.net"
        ],
        [
         "1",
         "Valentine-Hess",
         "1161237.0",
         "1993-01-03 00:00:00",
         null,
         "Agency should modern relate level son fall.",
         "Lost",
         "Christopher",
         "Wilson",
         "mmiller@example.com",
         "8573575.0",
         "Quarterly",
         "Check music forget able identify up case.",
         "Radio less six address improve organization.",
         "piece",
         "jeffreypruitt@example.net"
        ],
        [
         "2",
         "Peters, Kelly and Hines",
         "7934781.0",
         "1971-03-11 00:00:00",
         "1973-07-11 00:00:00",
         "Drug finally above PM.",
         "Won",
         "Stephanie",
         "Alvarado",
         "juan52@example.net",
         "2866860.0",
         "Monthly",
         "Already its other one bar white sign.",
         "Whom money any.",
         "Christina",
         "pamela01@example.org"
        ],
        [
         "3",
         "Cooper Inc",
         "3185201.0",
         "1992-01-18 00:00:00",
         "1998-03-15 00:00:00",
         "Stay support loss important.",
         "Lost",
         "Julia",
         "Bond",
         "thall@example.org",
         "9240344.0",
         "Annually",
         "Company difficult side mean shake tough.",
         "Issue attorney much.",
         "say",
         null
        ],
        [
         "4",
         "Carter, Horton and Garcia",
         "3260316.0",
         null,
         null,
         "Might business if research blue one kind.",
         "Lost",
         "Margaret",
         "Suarez",
         "amydrake@example.net",
         "3009164.0",
         "Monthly",
         "Child everything exactly improve tree food.",
         "Discussion fill knowledge admit.",
         "Michael",
         "marc47@example.net"
        ]
       ],
       "shape": {
        "columns": 15,
        "rows": 5
       }
      },
      "text/html": [
       "<div>\n",
       "<style scoped>\n",
       "    .dataframe tbody tr th:only-of-type {\n",
       "        vertical-align: middle;\n",
       "    }\n",
       "\n",
       "    .dataframe tbody tr th {\n",
       "        vertical-align: top;\n",
       "    }\n",
       "\n",
       "    .dataframe thead th {\n",
       "        text-align: right;\n",
       "    }\n",
       "</style>\n",
       "<table border=\"1\" class=\"dataframe\">\n",
       "  <thead>\n",
       "    <tr style=\"text-align: right;\">\n",
       "      <th></th>\n",
       "      <th>partner</th>\n",
       "      <th>amount_zar</th>\n",
       "      <th>start_date</th>\n",
       "      <th>end_date</th>\n",
       "      <th>requirements</th>\n",
       "      <th>status</th>\n",
       "      <th>first_name</th>\n",
       "      <th>last_name</th>\n",
       "      <th>email</th>\n",
       "      <th>total_value</th>\n",
       "      <th>payment_frequency</th>\n",
       "      <th>payment_allocations</th>\n",
       "      <th>report_due_dates</th>\n",
       "      <th>hl_contact</th>\n",
       "      <th>hl_email</th>\n",
       "    </tr>\n",
       "  </thead>\n",
       "  <tbody>\n",
       "    <tr>\n",
       "      <th>0</th>\n",
       "      <td>Smith-Jordan</td>\n",
       "      <td>3500699.0</td>\n",
       "      <td>1990-09-25</td>\n",
       "      <td>2014-01-16</td>\n",
       "      <td>sit</td>\n",
       "      <td>Won</td>\n",
       "      <td>Matthew</td>\n",
       "      <td>Larson</td>\n",
       "      <td>simmonsjudith@example.com</td>\n",
       "      <td>3500699.0</td>\n",
       "      <td>Annually</td>\n",
       "      <td>Common cover candidate boy.</td>\n",
       "      <td>Arrive avoid final then.</td>\n",
       "      <td>Jimmy</td>\n",
       "      <td>smithdawn@example.net</td>\n",
       "    </tr>\n",
       "    <tr>\n",
       "      <th>1</th>\n",
       "      <td>Valentine-Hess</td>\n",
       "      <td>1161237.0</td>\n",
       "      <td>1993-01-03</td>\n",
       "      <td>NaT</td>\n",
       "      <td>Agency should modern relate level son fall.</td>\n",
       "      <td>Lost</td>\n",
       "      <td>Christopher</td>\n",
       "      <td>Wilson</td>\n",
       "      <td>mmiller@example.com</td>\n",
       "      <td>8573575.0</td>\n",
       "      <td>Quarterly</td>\n",
       "      <td>Check music forget able identify up case.</td>\n",
       "      <td>Radio less six address improve organization.</td>\n",
       "      <td>piece</td>\n",
       "      <td>jeffreypruitt@example.net</td>\n",
       "    </tr>\n",
       "    <tr>\n",
       "      <th>2</th>\n",
       "      <td>Peters, Kelly and Hines</td>\n",
       "      <td>7934781.0</td>\n",
       "      <td>1971-03-11</td>\n",
       "      <td>1973-07-11</td>\n",
       "      <td>Drug finally above PM.</td>\n",
       "      <td>Won</td>\n",
       "      <td>Stephanie</td>\n",
       "      <td>Alvarado</td>\n",
       "      <td>juan52@example.net</td>\n",
       "      <td>2866860.0</td>\n",
       "      <td>Monthly</td>\n",
       "      <td>Already its other one bar white sign.</td>\n",
       "      <td>Whom money any.</td>\n",
       "      <td>Christina</td>\n",
       "      <td>pamela01@example.org</td>\n",
       "    </tr>\n",
       "    <tr>\n",
       "      <th>3</th>\n",
       "      <td>Cooper Inc</td>\n",
       "      <td>3185201.0</td>\n",
       "      <td>1992-01-18</td>\n",
       "      <td>1998-03-15</td>\n",
       "      <td>Stay support loss important.</td>\n",
       "      <td>Lost</td>\n",
       "      <td>Julia</td>\n",
       "      <td>Bond</td>\n",
       "      <td>thall@example.org</td>\n",
       "      <td>9240344.0</td>\n",
       "      <td>Annually</td>\n",
       "      <td>Company difficult side mean shake tough.</td>\n",
       "      <td>Issue attorney much.</td>\n",
       "      <td>say</td>\n",
       "      <td>NaN</td>\n",
       "    </tr>\n",
       "    <tr>\n",
       "      <th>4</th>\n",
       "      <td>Carter, Horton and Garcia</td>\n",
       "      <td>3260316.0</td>\n",
       "      <td>NaT</td>\n",
       "      <td>NaT</td>\n",
       "      <td>Might business if research blue one kind.</td>\n",
       "      <td>Lost</td>\n",
       "      <td>Margaret</td>\n",
       "      <td>Suarez</td>\n",
       "      <td>amydrake@example.net</td>\n",
       "      <td>3009164.0</td>\n",
       "      <td>Monthly</td>\n",
       "      <td>Child everything exactly improve tree food.</td>\n",
       "      <td>Discussion fill knowledge admit.</td>\n",
       "      <td>Michael</td>\n",
       "      <td>marc47@example.net</td>\n",
       "    </tr>\n",
       "  </tbody>\n",
       "</table>\n",
       "</div>"
      ],
      "text/plain": [
       "                     partner  amount_zar start_date   end_date  \\\n",
       "0               Smith-Jordan   3500699.0 1990-09-25 2014-01-16   \n",
       "1             Valentine-Hess   1161237.0 1993-01-03        NaT   \n",
       "2    Peters, Kelly and Hines   7934781.0 1971-03-11 1973-07-11   \n",
       "3                 Cooper Inc   3185201.0 1992-01-18 1998-03-15   \n",
       "4  Carter, Horton and Garcia   3260316.0        NaT        NaT   \n",
       "\n",
       "                                  requirements status   first_name last_name  \\\n",
       "0                                          sit    Won      Matthew    Larson   \n",
       "1  Agency should modern relate level son fall.   Lost  Christopher    Wilson   \n",
       "2                       Drug finally above PM.    Won    Stephanie  Alvarado   \n",
       "3                 Stay support loss important.   Lost        Julia      Bond   \n",
       "4    Might business if research blue one kind.   Lost     Margaret    Suarez   \n",
       "\n",
       "                       email  total_value payment_frequency  \\\n",
       "0  simmonsjudith@example.com    3500699.0          Annually   \n",
       "1        mmiller@example.com    8573575.0         Quarterly   \n",
       "2         juan52@example.net    2866860.0           Monthly   \n",
       "3          thall@example.org    9240344.0          Annually   \n",
       "4       amydrake@example.net    3009164.0           Monthly   \n",
       "\n",
       "                           payment_allocations  \\\n",
       "0                  Common cover candidate boy.   \n",
       "1    Check music forget able identify up case.   \n",
       "2        Already its other one bar white sign.   \n",
       "3     Company difficult side mean shake tough.   \n",
       "4  Child everything exactly improve tree food.   \n",
       "\n",
       "                               report_due_dates hl_contact  \\\n",
       "0                      Arrive avoid final then.      Jimmy   \n",
       "1  Radio less six address improve organization.      piece   \n",
       "2                               Whom money any.  Christina   \n",
       "3                          Issue attorney much.        say   \n",
       "4              Discussion fill knowledge admit.    Michael   \n",
       "\n",
       "                    hl_email  \n",
       "0      smithdawn@example.net  \n",
       "1  jeffreypruitt@example.net  \n",
       "2       pamela01@example.org  \n",
       "3                        NaN  \n",
       "4         marc47@example.net  "
      ]
     },
     "execution_count": 35,
     "metadata": {},
     "output_type": "execute_result"
    }
   ],
   "source": [
    "df['email'] = df['email'].where(df['email'].str.contains('@', na=False), np.nan)\n",
    "df['hl_email'] = df['hl_email'].where(df['hl_email'].str.contains('@', na=False), np.nan)\n",
    "df.head()"
   ]
  },
  {
   "cell_type": "code",
   "execution_count": 36,
   "id": "09c35de9",
   "metadata": {},
   "outputs": [],
   "source": [
    "df['email'] = df['email'].str.replace(r'\\.\\w+$', '.com', regex=True)\n",
    "df['hl_email'] = df['hl_email'].str.replace(r'\\.\\w+$', '.com', regex=True)"
   ]
  },
  {
   "cell_type": "markdown",
   "id": "73288237",
   "metadata": {},
   "source": [
    "### Standardizing payment frequency column"
   ]
  },
  {
   "cell_type": "code",
   "execution_count": 37,
   "id": "74873a93",
   "metadata": {},
   "outputs": [],
   "source": [
    "valid_frequencies = ['Monthly', 'Quarterly', 'Annually']\n",
    "df['payment_frequency'] = df['payment_frequency'].where(\n",
    "    df['payment_frequency'].isin(valid_frequencies), np.nan)\n"
   ]
  },
  {
   "cell_type": "markdown",
   "id": "6760ed9c",
   "metadata": {},
   "source": [
    "### Cleaning requirements field"
   ]
  },
  {
   "cell_type": "code",
   "execution_count": 38,
   "id": "e00565ed",
   "metadata": {},
   "outputs": [],
   "source": [
    "df['requirements'] = df['requirements'].replace(\n",
    "    to_replace=r'^[A-Z][a-z]+\\s[A-Z][a-z]+\\.$', value=np.nan, regex=True)"
   ]
  },
  {
   "cell_type": "markdown",
   "id": "2a1704f5",
   "metadata": {},
   "source": [
    "### Display cleaned text fields"
   ]
  },
  {
   "cell_type": "code",
   "execution_count": 39,
   "id": "f0881e36",
   "metadata": {},
   "outputs": [
    {
     "data": {
      "application/vnd.microsoft.datawrangler.viewer.v0+json": {
       "columns": [
        {
         "name": "index",
         "rawType": "int64",
         "type": "integer"
        },
        {
         "name": "status",
         "rawType": "object",
         "type": "string"
        },
        {
         "name": "first_name",
         "rawType": "object",
         "type": "string"
        },
        {
         "name": "last_name",
         "rawType": "object",
         "type": "string"
        },
        {
         "name": "email",
         "rawType": "object",
         "type": "unknown"
        },
        {
         "name": "payment_frequency",
         "rawType": "object",
         "type": "string"
        }
       ],
       "ref": "e6dd028e-1e30-420f-8406-dd9c517d6640",
       "rows": [
        [
         "0",
         "Won",
         "Matthew",
         "Larson",
         "simmonsjudith@example.com",
         "Annually"
        ],
        [
         "1",
         "Lost",
         "Christopher",
         "Wilson",
         "mmiller@example.com",
         "Quarterly"
        ],
        [
         "2",
         "Won",
         "Stephanie",
         "Alvarado",
         "juan52@example.com",
         "Monthly"
        ],
        [
         "3",
         "Lost",
         "Julia",
         "Bond",
         "thall@example.com",
         "Annually"
        ],
        [
         "4",
         "Lost",
         "Margaret",
         "Suarez",
         "amydrake@example.com",
         "Monthly"
        ],
        [
         "5",
         "Lost",
         "Edward",
         "Pearson",
         "acostaray@example.com",
         "Monthly"
        ],
        [
         "6",
         "Won",
         "Michael",
         "Carlson",
         null,
         "Annually"
        ],
        [
         "7",
         "Lost",
         "book",
         "here",
         "benitezmatthew@example.com",
         "Quarterly"
        ],
        [
         "8",
         "Lost",
         "Christian",
         "Horn",
         "emily35@example.com",
         "Quarterly"
        ],
        [
         "9",
         "Won",
         "Gregory",
         "Howard",
         "jacqueline17@example.com",
         "Monthly"
        ]
       ],
       "shape": {
        "columns": 5,
        "rows": 10
       }
      },
      "text/html": [
       "<div>\n",
       "<style scoped>\n",
       "    .dataframe tbody tr th:only-of-type {\n",
       "        vertical-align: middle;\n",
       "    }\n",
       "\n",
       "    .dataframe tbody tr th {\n",
       "        vertical-align: top;\n",
       "    }\n",
       "\n",
       "    .dataframe thead th {\n",
       "        text-align: right;\n",
       "    }\n",
       "</style>\n",
       "<table border=\"1\" class=\"dataframe\">\n",
       "  <thead>\n",
       "    <tr style=\"text-align: right;\">\n",
       "      <th></th>\n",
       "      <th>status</th>\n",
       "      <th>first_name</th>\n",
       "      <th>last_name</th>\n",
       "      <th>email</th>\n",
       "      <th>payment_frequency</th>\n",
       "    </tr>\n",
       "  </thead>\n",
       "  <tbody>\n",
       "    <tr>\n",
       "      <th>0</th>\n",
       "      <td>Won</td>\n",
       "      <td>Matthew</td>\n",
       "      <td>Larson</td>\n",
       "      <td>simmonsjudith@example.com</td>\n",
       "      <td>Annually</td>\n",
       "    </tr>\n",
       "    <tr>\n",
       "      <th>1</th>\n",
       "      <td>Lost</td>\n",
       "      <td>Christopher</td>\n",
       "      <td>Wilson</td>\n",
       "      <td>mmiller@example.com</td>\n",
       "      <td>Quarterly</td>\n",
       "    </tr>\n",
       "    <tr>\n",
       "      <th>2</th>\n",
       "      <td>Won</td>\n",
       "      <td>Stephanie</td>\n",
       "      <td>Alvarado</td>\n",
       "      <td>juan52@example.com</td>\n",
       "      <td>Monthly</td>\n",
       "    </tr>\n",
       "    <tr>\n",
       "      <th>3</th>\n",
       "      <td>Lost</td>\n",
       "      <td>Julia</td>\n",
       "      <td>Bond</td>\n",
       "      <td>thall@example.com</td>\n",
       "      <td>Annually</td>\n",
       "    </tr>\n",
       "    <tr>\n",
       "      <th>4</th>\n",
       "      <td>Lost</td>\n",
       "      <td>Margaret</td>\n",
       "      <td>Suarez</td>\n",
       "      <td>amydrake@example.com</td>\n",
       "      <td>Monthly</td>\n",
       "    </tr>\n",
       "    <tr>\n",
       "      <th>5</th>\n",
       "      <td>Lost</td>\n",
       "      <td>Edward</td>\n",
       "      <td>Pearson</td>\n",
       "      <td>acostaray@example.com</td>\n",
       "      <td>Monthly</td>\n",
       "    </tr>\n",
       "    <tr>\n",
       "      <th>6</th>\n",
       "      <td>Won</td>\n",
       "      <td>Michael</td>\n",
       "      <td>Carlson</td>\n",
       "      <td>NaN</td>\n",
       "      <td>Annually</td>\n",
       "    </tr>\n",
       "    <tr>\n",
       "      <th>7</th>\n",
       "      <td>Lost</td>\n",
       "      <td>book</td>\n",
       "      <td>here</td>\n",
       "      <td>benitezmatthew@example.com</td>\n",
       "      <td>Quarterly</td>\n",
       "    </tr>\n",
       "    <tr>\n",
       "      <th>8</th>\n",
       "      <td>Lost</td>\n",
       "      <td>Christian</td>\n",
       "      <td>Horn</td>\n",
       "      <td>emily35@example.com</td>\n",
       "      <td>Quarterly</td>\n",
       "    </tr>\n",
       "    <tr>\n",
       "      <th>9</th>\n",
       "      <td>Won</td>\n",
       "      <td>Gregory</td>\n",
       "      <td>Howard</td>\n",
       "      <td>jacqueline17@example.com</td>\n",
       "      <td>Monthly</td>\n",
       "    </tr>\n",
       "  </tbody>\n",
       "</table>\n",
       "</div>"
      ],
      "text/plain": [
       "  status   first_name last_name                       email payment_frequency\n",
       "0    Won      Matthew    Larson   simmonsjudith@example.com          Annually\n",
       "1   Lost  Christopher    Wilson         mmiller@example.com         Quarterly\n",
       "2    Won    Stephanie  Alvarado          juan52@example.com           Monthly\n",
       "3   Lost        Julia      Bond           thall@example.com          Annually\n",
       "4   Lost     Margaret    Suarez        amydrake@example.com           Monthly\n",
       "5   Lost       Edward   Pearson       acostaray@example.com           Monthly\n",
       "6    Won      Michael   Carlson                         NaN          Annually\n",
       "7   Lost         book      here  benitezmatthew@example.com         Quarterly\n",
       "8   Lost    Christian      Horn         emily35@example.com         Quarterly\n",
       "9    Won      Gregory    Howard    jacqueline17@example.com           Monthly"
      ]
     },
     "execution_count": 39,
     "metadata": {},
     "output_type": "execute_result"
    }
   ],
   "source": [
    "text_fields = ['status', 'first_name', 'last_name', 'email', 'payment_frequency']\n",
    "df[text_fields].head(10)"
   ]
  },
  {
   "cell_type": "markdown",
   "id": "c13f89f0",
   "metadata": {},
   "source": [
    "## Handling Missing Data "
   ]
  },
  {
   "cell_type": "markdown",
   "id": "512ec434",
   "metadata": {},
   "source": [
    "### Missing Values Count"
   ]
  },
  {
   "cell_type": "code",
   "execution_count": 40,
   "id": "665de04b",
   "metadata": {},
   "outputs": [
    {
     "name": "stdout",
     "output_type": "stream",
     "text": [
      "Missing Values Before Cleaning:\n",
      "partner                 0\n",
      "amount_zar              9\n",
      "start_date             51\n",
      "end_date               59\n",
      "requirements            0\n",
      "status                  0\n",
      "first_name              0\n",
      "last_name               0\n",
      "email                   9\n",
      "total_value             1\n",
      "payment_frequency       0\n",
      "payment_allocations     0\n",
      "report_due_dates        0\n",
      "hl_contact              0\n",
      "hl_email               11\n",
      "dtype: int64\n"
     ]
    }
   ],
   "source": [
    "print(\"Missing Values Before Cleaning:\")\n",
    "print(df.isna().sum())\n"
   ]
  },
  {
   "cell_type": "markdown",
   "id": "bd6c261e",
   "metadata": {},
   "source": [
    "### Dropping rows missing important data"
   ]
  },
  {
   "cell_type": "code",
   "execution_count": 41,
   "id": "a736c8e3",
   "metadata": {},
   "outputs": [],
   "source": [
    "critical_cols = ['partner', 'amount_zar', 'start_date', 'status']\n",
    "df = df.dropna(subset=critical_cols, how='any')"
   ]
  },
  {
   "cell_type": "markdown",
   "id": "481d295b",
   "metadata": {},
   "source": [
    "### Filling missing values"
   ]
  },
  {
   "cell_type": "code",
   "execution_count": 42,
   "id": "11aa5aea",
   "metadata": {},
   "outputs": [
    {
     "data": {
      "application/vnd.microsoft.datawrangler.viewer.v0+json": {
       "columns": [
        {
         "name": "index",
         "rawType": "int64",
         "type": "integer"
        },
        {
         "name": "partner",
         "rawType": "object",
         "type": "string"
        },
        {
         "name": "amount_zar",
         "rawType": "float64",
         "type": "float"
        },
        {
         "name": "start_date",
         "rawType": "datetime64[ns]",
         "type": "datetime"
        },
        {
         "name": "end_date",
         "rawType": "datetime64[ns]",
         "type": "datetime"
        },
        {
         "name": "requirements",
         "rawType": "object",
         "type": "string"
        },
        {
         "name": "status",
         "rawType": "object",
         "type": "string"
        },
        {
         "name": "first_name",
         "rawType": "object",
         "type": "string"
        },
        {
         "name": "last_name",
         "rawType": "object",
         "type": "string"
        },
        {
         "name": "email",
         "rawType": "object",
         "type": "string"
        },
        {
         "name": "total_value",
         "rawType": "float64",
         "type": "float"
        },
        {
         "name": "payment_frequency",
         "rawType": "object",
         "type": "string"
        },
        {
         "name": "payment_allocations",
         "rawType": "object",
         "type": "string"
        },
        {
         "name": "report_due_dates",
         "rawType": "object",
         "type": "string"
        },
        {
         "name": "hl_contact",
         "rawType": "object",
         "type": "string"
        },
        {
         "name": "hl_email",
         "rawType": "object",
         "type": "string"
        }
       ],
       "ref": "2d3a0318-c6fe-4c07-9779-ec4b561eb7dd",
       "rows": [
        [
         "0",
         "Smith-Jordan",
         "3500699.0",
         "1990-09-25 00:00:00",
         "2014-01-16 00:00:00",
         "sit",
         "Won",
         "Matthew",
         "Larson",
         "simmonsjudith@example.com",
         "3500699.0",
         "Annually",
         "Common cover candidate boy.",
         "Arrive avoid final then.",
         "Jimmy",
         "smithdawn@example.com"
        ],
        [
         "1",
         "Peters, Kelly and Hines",
         "7934781.0",
         "1971-03-11 00:00:00",
         "1973-07-11 00:00:00",
         "Drug finally above PM.",
         "Won",
         "Stephanie",
         "Alvarado",
         "juan52@example.com",
         "2866860.0",
         "Monthly",
         "Already its other one bar white sign.",
         "Whom money any.",
         "Christina",
         "pamela01@example.com"
        ],
        [
         "2",
         "Burgess, Zimmerman and Ortega",
         "7219028.0",
         "1971-02-18 00:00:00",
         "1997-11-17 00:00:00",
         "Condition prevent stop if maintain.",
         "Lost",
         "Edward",
         "Pearson",
         "acostaray@example.com",
         "5753699.0",
         "Monthly",
         "Wind how human them party better.",
         "Land understand town instead task talk enjoy.",
         "Danny",
         "lori70@example.com"
        ],
        [
         "3",
         "Blevins-Yoder",
         "1988543.0",
         "1975-05-03 00:00:00",
         "1976-07-16 00:00:00",
         "National forget author.",
         "Won",
         "Robert",
         "Zimmerman",
         "youngstacey@example.com",
         "3848339.0",
         "Quarterly",
         "Generation education force wide candidate thousand.",
         "Group area education.",
         "Roy",
         "clucero@example.com"
        ],
        [
         "4",
         "Bush Group",
         "9060893.0",
         "1976-07-17 00:00:00",
         "2014-07-21 00:00:00",
         "Audience over month.",
         "Won",
         "April",
         "Vega",
         "woodroberto@example.com",
         "8611469.0",
         "Quarterly",
         "Food move say control property realize task maybe.",
         "Past cold shoulder office begin whom art when.",
         "Danielle",
         "timothy21@example.com"
        ]
       ],
       "shape": {
        "columns": 15,
        "rows": 5
       }
      },
      "text/html": [
       "<div>\n",
       "<style scoped>\n",
       "    .dataframe tbody tr th:only-of-type {\n",
       "        vertical-align: middle;\n",
       "    }\n",
       "\n",
       "    .dataframe tbody tr th {\n",
       "        vertical-align: top;\n",
       "    }\n",
       "\n",
       "    .dataframe thead th {\n",
       "        text-align: right;\n",
       "    }\n",
       "</style>\n",
       "<table border=\"1\" class=\"dataframe\">\n",
       "  <thead>\n",
       "    <tr style=\"text-align: right;\">\n",
       "      <th></th>\n",
       "      <th>partner</th>\n",
       "      <th>amount_zar</th>\n",
       "      <th>start_date</th>\n",
       "      <th>end_date</th>\n",
       "      <th>requirements</th>\n",
       "      <th>status</th>\n",
       "      <th>first_name</th>\n",
       "      <th>last_name</th>\n",
       "      <th>email</th>\n",
       "      <th>total_value</th>\n",
       "      <th>payment_frequency</th>\n",
       "      <th>payment_allocations</th>\n",
       "      <th>report_due_dates</th>\n",
       "      <th>hl_contact</th>\n",
       "      <th>hl_email</th>\n",
       "    </tr>\n",
       "  </thead>\n",
       "  <tbody>\n",
       "    <tr>\n",
       "      <th>0</th>\n",
       "      <td>Smith-Jordan</td>\n",
       "      <td>3500699.0</td>\n",
       "      <td>1990-09-25</td>\n",
       "      <td>2014-01-16</td>\n",
       "      <td>sit</td>\n",
       "      <td>Won</td>\n",
       "      <td>Matthew</td>\n",
       "      <td>Larson</td>\n",
       "      <td>simmonsjudith@example.com</td>\n",
       "      <td>3500699.0</td>\n",
       "      <td>Annually</td>\n",
       "      <td>Common cover candidate boy.</td>\n",
       "      <td>Arrive avoid final then.</td>\n",
       "      <td>Jimmy</td>\n",
       "      <td>smithdawn@example.com</td>\n",
       "    </tr>\n",
       "    <tr>\n",
       "      <th>1</th>\n",
       "      <td>Peters, Kelly and Hines</td>\n",
       "      <td>7934781.0</td>\n",
       "      <td>1971-03-11</td>\n",
       "      <td>1973-07-11</td>\n",
       "      <td>Drug finally above PM.</td>\n",
       "      <td>Won</td>\n",
       "      <td>Stephanie</td>\n",
       "      <td>Alvarado</td>\n",
       "      <td>juan52@example.com</td>\n",
       "      <td>2866860.0</td>\n",
       "      <td>Monthly</td>\n",
       "      <td>Already its other one bar white sign.</td>\n",
       "      <td>Whom money any.</td>\n",
       "      <td>Christina</td>\n",
       "      <td>pamela01@example.com</td>\n",
       "    </tr>\n",
       "    <tr>\n",
       "      <th>2</th>\n",
       "      <td>Burgess, Zimmerman and Ortega</td>\n",
       "      <td>7219028.0</td>\n",
       "      <td>1971-02-18</td>\n",
       "      <td>1997-11-17</td>\n",
       "      <td>Condition prevent stop if maintain.</td>\n",
       "      <td>Lost</td>\n",
       "      <td>Edward</td>\n",
       "      <td>Pearson</td>\n",
       "      <td>acostaray@example.com</td>\n",
       "      <td>5753699.0</td>\n",
       "      <td>Monthly</td>\n",
       "      <td>Wind how human them party better.</td>\n",
       "      <td>Land understand town instead task talk enjoy.</td>\n",
       "      <td>Danny</td>\n",
       "      <td>lori70@example.com</td>\n",
       "    </tr>\n",
       "    <tr>\n",
       "      <th>3</th>\n",
       "      <td>Blevins-Yoder</td>\n",
       "      <td>1988543.0</td>\n",
       "      <td>1975-05-03</td>\n",
       "      <td>1976-07-16</td>\n",
       "      <td>National forget author.</td>\n",
       "      <td>Won</td>\n",
       "      <td>Robert</td>\n",
       "      <td>Zimmerman</td>\n",
       "      <td>youngstacey@example.com</td>\n",
       "      <td>3848339.0</td>\n",
       "      <td>Quarterly</td>\n",
       "      <td>Generation education force wide candidate thou...</td>\n",
       "      <td>Group area education.</td>\n",
       "      <td>Roy</td>\n",
       "      <td>clucero@example.com</td>\n",
       "    </tr>\n",
       "    <tr>\n",
       "      <th>4</th>\n",
       "      <td>Bush Group</td>\n",
       "      <td>9060893.0</td>\n",
       "      <td>1976-07-17</td>\n",
       "      <td>2014-07-21</td>\n",
       "      <td>Audience over month.</td>\n",
       "      <td>Won</td>\n",
       "      <td>April</td>\n",
       "      <td>Vega</td>\n",
       "      <td>woodroberto@example.com</td>\n",
       "      <td>8611469.0</td>\n",
       "      <td>Quarterly</td>\n",
       "      <td>Food move say control property realize task ma...</td>\n",
       "      <td>Past cold shoulder office begin whom art when.</td>\n",
       "      <td>Danielle</td>\n",
       "      <td>timothy21@example.com</td>\n",
       "    </tr>\n",
       "  </tbody>\n",
       "</table>\n",
       "</div>"
      ],
      "text/plain": [
       "                         partner  amount_zar start_date   end_date  \\\n",
       "0                   Smith-Jordan   3500699.0 1990-09-25 2014-01-16   \n",
       "1        Peters, Kelly and Hines   7934781.0 1971-03-11 1973-07-11   \n",
       "2  Burgess, Zimmerman and Ortega   7219028.0 1971-02-18 1997-11-17   \n",
       "3                  Blevins-Yoder   1988543.0 1975-05-03 1976-07-16   \n",
       "4                     Bush Group   9060893.0 1976-07-17 2014-07-21   \n",
       "\n",
       "                          requirements status first_name  last_name  \\\n",
       "0                                  sit    Won    Matthew     Larson   \n",
       "1               Drug finally above PM.    Won  Stephanie   Alvarado   \n",
       "2  Condition prevent stop if maintain.   Lost     Edward    Pearson   \n",
       "3              National forget author.    Won     Robert  Zimmerman   \n",
       "4                 Audience over month.    Won      April       Vega   \n",
       "\n",
       "                       email  total_value payment_frequency  \\\n",
       "0  simmonsjudith@example.com    3500699.0          Annually   \n",
       "1         juan52@example.com    2866860.0           Monthly   \n",
       "2      acostaray@example.com    5753699.0           Monthly   \n",
       "3    youngstacey@example.com    3848339.0         Quarterly   \n",
       "4    woodroberto@example.com    8611469.0         Quarterly   \n",
       "\n",
       "                                 payment_allocations  \\\n",
       "0                        Common cover candidate boy.   \n",
       "1              Already its other one bar white sign.   \n",
       "2                  Wind how human them party better.   \n",
       "3  Generation education force wide candidate thou...   \n",
       "4  Food move say control property realize task ma...   \n",
       "\n",
       "                                 report_due_dates hl_contact  \\\n",
       "0                        Arrive avoid final then.      Jimmy   \n",
       "1                                 Whom money any.  Christina   \n",
       "2   Land understand town instead task talk enjoy.      Danny   \n",
       "3                           Group area education.        Roy   \n",
       "4  Past cold shoulder office begin whom art when.   Danielle   \n",
       "\n",
       "                hl_email  \n",
       "0  smithdawn@example.com  \n",
       "1   pamela01@example.com  \n",
       "2     lori70@example.com  \n",
       "3    clucero@example.com  \n",
       "4  timothy21@example.com  "
      ]
     },
     "execution_count": 42,
     "metadata": {},
     "output_type": "execute_result"
    }
   ],
   "source": [
    "df = df.replace('Unknown', np.nan).dropna()\n",
    "df.reset_index(drop=True, inplace=True)\n",
    "df.head()"
   ]
  },
  {
   "cell_type": "markdown",
   "id": "4c59268f",
   "metadata": {},
   "source": [
    "### Missing values count after cleaning"
   ]
  },
  {
   "cell_type": "code",
   "execution_count": 43,
   "id": "27767d7b",
   "metadata": {},
   "outputs": [
    {
     "name": "stdout",
     "output_type": "stream",
     "text": [
      "\n",
      "Missing Values After Cleaning:\n",
      "partner                0\n",
      "amount_zar             0\n",
      "start_date             0\n",
      "end_date               0\n",
      "requirements           0\n",
      "status                 0\n",
      "first_name             0\n",
      "last_name              0\n",
      "email                  0\n",
      "total_value            0\n",
      "payment_frequency      0\n",
      "payment_allocations    0\n",
      "report_due_dates       0\n",
      "hl_contact             0\n",
      "hl_email               0\n",
      "dtype: int64\n"
     ]
    }
   ],
   "source": [
    "print(\"\\nMissing Values After Cleaning:\")\n",
    "print(df.isna().sum())"
   ]
  },
  {
   "cell_type": "markdown",
   "id": "3e798c15",
   "metadata": {},
   "source": [
    "## Data Validation"
   ]
  },
  {
   "cell_type": "markdown",
   "id": "cceade1b",
   "metadata": {},
   "source": [
    "### Validating numeric fields"
   ]
  },
  {
   "cell_type": "code",
   "execution_count": 44,
   "id": "50d0b6eb",
   "metadata": {},
   "outputs": [],
   "source": [
    "assert (df['amount_zar'] >= 0).all()\n",
    "assert (df['total_value'] >= 0).all()"
   ]
  },
  {
   "cell_type": "markdown",
   "id": "6c172cb8",
   "metadata": {},
   "source": [
    "### Validating date ranges"
   ]
  },
  {
   "cell_type": "code",
   "execution_count": 45,
   "id": "03842a88",
   "metadata": {},
   "outputs": [],
   "source": [
    "valid_dates = df[['start_date', 'end_date']].dropna()\n",
    "\n",
    "valid_dates['end_date'] = pd.to_datetime(valid_dates['end_date'], errors='coerce')\n",
    "\n",
    "valid_dates = valid_dates.dropna(subset=['end_date'])\n",
    "if not valid_dates.empty:\n",
    "    assert (valid_dates['end_date'] >= valid_dates['start_date']).all()"
   ]
  },
  {
   "cell_type": "markdown",
   "id": "ad563959",
   "metadata": {},
   "source": [
    "### Validating statue values "
   ]
  },
  {
   "cell_type": "code",
   "execution_count": 46,
   "id": "b5107e35",
   "metadata": {},
   "outputs": [
    {
     "name": "stdout",
     "output_type": "stream",
     "text": [
      "All validation checks passed!\n"
     ]
    }
   ],
   "source": [
    "assert set(df['status'].unique()) <= {'Won', 'Lost'}\n",
    "print(\"All validation checks passed!\")"
   ]
  },
  {
   "cell_type": "code",
   "execution_count": 47,
   "id": "701a9a15",
   "metadata": {},
   "outputs": [
    {
     "data": {
      "application/vnd.microsoft.datawrangler.viewer.v0+json": {
       "columns": [
        {
         "name": "index",
         "rawType": "int64",
         "type": "integer"
        },
        {
         "name": "partner",
         "rawType": "object",
         "type": "string"
        },
        {
         "name": "amount_zar",
         "rawType": "float64",
         "type": "float"
        },
        {
         "name": "start_date",
         "rawType": "datetime64[ns]",
         "type": "datetime"
        },
        {
         "name": "end_date",
         "rawType": "datetime64[ns]",
         "type": "datetime"
        },
        {
         "name": "requirements",
         "rawType": "object",
         "type": "string"
        },
        {
         "name": "status",
         "rawType": "object",
         "type": "string"
        },
        {
         "name": "first_name",
         "rawType": "object",
         "type": "string"
        },
        {
         "name": "last_name",
         "rawType": "object",
         "type": "string"
        },
        {
         "name": "email",
         "rawType": "object",
         "type": "string"
        },
        {
         "name": "total_value",
         "rawType": "float64",
         "type": "float"
        },
        {
         "name": "payment_frequency",
         "rawType": "object",
         "type": "string"
        },
        {
         "name": "payment_allocations",
         "rawType": "object",
         "type": "string"
        },
        {
         "name": "report_due_dates",
         "rawType": "object",
         "type": "string"
        },
        {
         "name": "hl_contact",
         "rawType": "object",
         "type": "string"
        },
        {
         "name": "hl_email",
         "rawType": "object",
         "type": "string"
        }
       ],
       "ref": "fdb338f9-cd9b-442c-83d3-988abe93be9b",
       "rows": [
        [
         "0",
         "Smith-Jordan",
         "3500699.0",
         "1990-09-25 00:00:00",
         "2014-01-16 00:00:00",
         "sit",
         "Won",
         "Matthew",
         "Larson",
         "simmonsjudith@example.com",
         "3500699.0",
         "Annually",
         "Common cover candidate boy.",
         "Arrive avoid final then.",
         "Jimmy",
         "smithdawn@example.com"
        ],
        [
         "1",
         "Peters, Kelly and Hines",
         "7934781.0",
         "1971-03-11 00:00:00",
         "1973-07-11 00:00:00",
         "Drug finally above PM.",
         "Won",
         "Stephanie",
         "Alvarado",
         "juan52@example.com",
         "2866860.0",
         "Monthly",
         "Already its other one bar white sign.",
         "Whom money any.",
         "Christina",
         "pamela01@example.com"
        ],
        [
         "2",
         "Burgess, Zimmerman and Ortega",
         "7219028.0",
         "1971-02-18 00:00:00",
         "1997-11-17 00:00:00",
         "Condition prevent stop if maintain.",
         "Lost",
         "Edward",
         "Pearson",
         "acostaray@example.com",
         "5753699.0",
         "Monthly",
         "Wind how human them party better.",
         "Land understand town instead task talk enjoy.",
         "Danny",
         "lori70@example.com"
        ],
        [
         "3",
         "Blevins-Yoder",
         "1988543.0",
         "1975-05-03 00:00:00",
         "1976-07-16 00:00:00",
         "National forget author.",
         "Won",
         "Robert",
         "Zimmerman",
         "youngstacey@example.com",
         "3848339.0",
         "Quarterly",
         "Generation education force wide candidate thousand.",
         "Group area education.",
         "Roy",
         "clucero@example.com"
        ],
        [
         "4",
         "Bush Group",
         "9060893.0",
         "1976-07-17 00:00:00",
         "2014-07-21 00:00:00",
         "Audience over month.",
         "Won",
         "April",
         "Vega",
         "woodroberto@example.com",
         "8611469.0",
         "Quarterly",
         "Food move say control property realize task maybe.",
         "Past cold shoulder office begin whom art when.",
         "Danielle",
         "timothy21@example.com"
        ]
       ],
       "shape": {
        "columns": 15,
        "rows": 5
       }
      },
      "text/html": [
       "<div>\n",
       "<style scoped>\n",
       "    .dataframe tbody tr th:only-of-type {\n",
       "        vertical-align: middle;\n",
       "    }\n",
       "\n",
       "    .dataframe tbody tr th {\n",
       "        vertical-align: top;\n",
       "    }\n",
       "\n",
       "    .dataframe thead th {\n",
       "        text-align: right;\n",
       "    }\n",
       "</style>\n",
       "<table border=\"1\" class=\"dataframe\">\n",
       "  <thead>\n",
       "    <tr style=\"text-align: right;\">\n",
       "      <th></th>\n",
       "      <th>partner</th>\n",
       "      <th>amount_zar</th>\n",
       "      <th>start_date</th>\n",
       "      <th>end_date</th>\n",
       "      <th>requirements</th>\n",
       "      <th>status</th>\n",
       "      <th>first_name</th>\n",
       "      <th>last_name</th>\n",
       "      <th>email</th>\n",
       "      <th>total_value</th>\n",
       "      <th>payment_frequency</th>\n",
       "      <th>payment_allocations</th>\n",
       "      <th>report_due_dates</th>\n",
       "      <th>hl_contact</th>\n",
       "      <th>hl_email</th>\n",
       "    </tr>\n",
       "  </thead>\n",
       "  <tbody>\n",
       "    <tr>\n",
       "      <th>0</th>\n",
       "      <td>Smith-Jordan</td>\n",
       "      <td>3500699.0</td>\n",
       "      <td>1990-09-25</td>\n",
       "      <td>2014-01-16</td>\n",
       "      <td>sit</td>\n",
       "      <td>Won</td>\n",
       "      <td>Matthew</td>\n",
       "      <td>Larson</td>\n",
       "      <td>simmonsjudith@example.com</td>\n",
       "      <td>3500699.0</td>\n",
       "      <td>Annually</td>\n",
       "      <td>Common cover candidate boy.</td>\n",
       "      <td>Arrive avoid final then.</td>\n",
       "      <td>Jimmy</td>\n",
       "      <td>smithdawn@example.com</td>\n",
       "    </tr>\n",
       "    <tr>\n",
       "      <th>1</th>\n",
       "      <td>Peters, Kelly and Hines</td>\n",
       "      <td>7934781.0</td>\n",
       "      <td>1971-03-11</td>\n",
       "      <td>1973-07-11</td>\n",
       "      <td>Drug finally above PM.</td>\n",
       "      <td>Won</td>\n",
       "      <td>Stephanie</td>\n",
       "      <td>Alvarado</td>\n",
       "      <td>juan52@example.com</td>\n",
       "      <td>2866860.0</td>\n",
       "      <td>Monthly</td>\n",
       "      <td>Already its other one bar white sign.</td>\n",
       "      <td>Whom money any.</td>\n",
       "      <td>Christina</td>\n",
       "      <td>pamela01@example.com</td>\n",
       "    </tr>\n",
       "    <tr>\n",
       "      <th>2</th>\n",
       "      <td>Burgess, Zimmerman and Ortega</td>\n",
       "      <td>7219028.0</td>\n",
       "      <td>1971-02-18</td>\n",
       "      <td>1997-11-17</td>\n",
       "      <td>Condition prevent stop if maintain.</td>\n",
       "      <td>Lost</td>\n",
       "      <td>Edward</td>\n",
       "      <td>Pearson</td>\n",
       "      <td>acostaray@example.com</td>\n",
       "      <td>5753699.0</td>\n",
       "      <td>Monthly</td>\n",
       "      <td>Wind how human them party better.</td>\n",
       "      <td>Land understand town instead task talk enjoy.</td>\n",
       "      <td>Danny</td>\n",
       "      <td>lori70@example.com</td>\n",
       "    </tr>\n",
       "    <tr>\n",
       "      <th>3</th>\n",
       "      <td>Blevins-Yoder</td>\n",
       "      <td>1988543.0</td>\n",
       "      <td>1975-05-03</td>\n",
       "      <td>1976-07-16</td>\n",
       "      <td>National forget author.</td>\n",
       "      <td>Won</td>\n",
       "      <td>Robert</td>\n",
       "      <td>Zimmerman</td>\n",
       "      <td>youngstacey@example.com</td>\n",
       "      <td>3848339.0</td>\n",
       "      <td>Quarterly</td>\n",
       "      <td>Generation education force wide candidate thou...</td>\n",
       "      <td>Group area education.</td>\n",
       "      <td>Roy</td>\n",
       "      <td>clucero@example.com</td>\n",
       "    </tr>\n",
       "    <tr>\n",
       "      <th>4</th>\n",
       "      <td>Bush Group</td>\n",
       "      <td>9060893.0</td>\n",
       "      <td>1976-07-17</td>\n",
       "      <td>2014-07-21</td>\n",
       "      <td>Audience over month.</td>\n",
       "      <td>Won</td>\n",
       "      <td>April</td>\n",
       "      <td>Vega</td>\n",
       "      <td>woodroberto@example.com</td>\n",
       "      <td>8611469.0</td>\n",
       "      <td>Quarterly</td>\n",
       "      <td>Food move say control property realize task ma...</td>\n",
       "      <td>Past cold shoulder office begin whom art when.</td>\n",
       "      <td>Danielle</td>\n",
       "      <td>timothy21@example.com</td>\n",
       "    </tr>\n",
       "  </tbody>\n",
       "</table>\n",
       "</div>"
      ],
      "text/plain": [
       "                         partner  amount_zar start_date   end_date  \\\n",
       "0                   Smith-Jordan   3500699.0 1990-09-25 2014-01-16   \n",
       "1        Peters, Kelly and Hines   7934781.0 1971-03-11 1973-07-11   \n",
       "2  Burgess, Zimmerman and Ortega   7219028.0 1971-02-18 1997-11-17   \n",
       "3                  Blevins-Yoder   1988543.0 1975-05-03 1976-07-16   \n",
       "4                     Bush Group   9060893.0 1976-07-17 2014-07-21   \n",
       "\n",
       "                          requirements status first_name  last_name  \\\n",
       "0                                  sit    Won    Matthew     Larson   \n",
       "1               Drug finally above PM.    Won  Stephanie   Alvarado   \n",
       "2  Condition prevent stop if maintain.   Lost     Edward    Pearson   \n",
       "3              National forget author.    Won     Robert  Zimmerman   \n",
       "4                 Audience over month.    Won      April       Vega   \n",
       "\n",
       "                       email  total_value payment_frequency  \\\n",
       "0  simmonsjudith@example.com    3500699.0          Annually   \n",
       "1         juan52@example.com    2866860.0           Monthly   \n",
       "2      acostaray@example.com    5753699.0           Monthly   \n",
       "3    youngstacey@example.com    3848339.0         Quarterly   \n",
       "4    woodroberto@example.com    8611469.0         Quarterly   \n",
       "\n",
       "                                 payment_allocations  \\\n",
       "0                        Common cover candidate boy.   \n",
       "1              Already its other one bar white sign.   \n",
       "2                  Wind how human them party better.   \n",
       "3  Generation education force wide candidate thou...   \n",
       "4  Food move say control property realize task ma...   \n",
       "\n",
       "                                 report_due_dates hl_contact  \\\n",
       "0                        Arrive avoid final then.      Jimmy   \n",
       "1                                 Whom money any.  Christina   \n",
       "2   Land understand town instead task talk enjoy.      Danny   \n",
       "3                           Group area education.        Roy   \n",
       "4  Past cold shoulder office begin whom art when.   Danielle   \n",
       "\n",
       "                hl_email  \n",
       "0  smithdawn@example.com  \n",
       "1   pamela01@example.com  \n",
       "2     lori70@example.com  \n",
       "3    clucero@example.com  \n",
       "4  timothy21@example.com  "
      ]
     },
     "execution_count": 47,
     "metadata": {},
     "output_type": "execute_result"
    }
   ],
   "source": [
    "df.head()"
   ]
  },
  {
   "cell_type": "markdown",
   "id": "18497fa7",
   "metadata": {},
   "source": [
    "## Cleaned Dataset"
   ]
  },
  {
   "cell_type": "code",
   "execution_count": 48,
   "id": "a941ea2a",
   "metadata": {},
   "outputs": [
    {
     "name": "stdout",
     "output_type": "stream",
     "text": [
      "Cleaned dataset saved successfully!\n"
     ]
    }
   ],
   "source": [
    "df.to_csv('Cleaned_Intern_Donor_Details.csv', index=False)\n",
    "print(\"Cleaned dataset saved successfully!\")"
   ]
  }
 ],
 "metadata": {
  "kernelspec": {
   "display_name": ".venv",
   "language": "python",
   "name": "python3"
  },
  "language_info": {
   "codemirror_mode": {
    "name": "ipython",
    "version": 3
   },
   "file_extension": ".py",
   "mimetype": "text/x-python",
   "name": "python",
   "nbconvert_exporter": "python",
   "pygments_lexer": "ipython3",
   "version": "3.13.3"
  }
 },
 "nbformat": 4,
 "nbformat_minor": 5
}
