{
 "cells": [
  {
   "cell_type": "markdown",
   "id": "a57de08f",
   "metadata": {},
   "source": [
    "# 1. Market Data Analysis & Volatility Measurement\n"
   ]
  },
  {
   "cell_type": "code",
   "execution_count": 1,
   "id": "1ded90cb",
   "metadata": {},
   "outputs": [],
   "source": [
    "import pandas as pd \n",
    "import numpy as np \n",
    "import yfinance as yf\n",
    "from arch import arch_model\n",
    "import matplotlib.pyplot as plt"
   ]
  },
  {
   "cell_type": "markdown",
   "id": "52031a84",
   "metadata": {},
   "source": [
    "## Fecthing Market Data"
   ]
  },
  {
   "cell_type": "code",
   "execution_count": 2,
   "id": "697174e3",
   "metadata": {},
   "outputs": [
    {
     "name": "stdout",
     "output_type": "stream",
     "text": [
      "YF.download() has changed argument auto_adjust default to True\n"
     ]
    },
    {
     "name": "stderr",
     "output_type": "stream",
     "text": [
      "[*********************100%***********************]  1 of 1 completed\n"
     ]
    },
    {
     "data": {
      "application/vnd.microsoft.datawrangler.viewer.v0+json": {
       "columns": [
        {
         "name": "Date",
         "rawType": "datetime64[ns]",
         "type": "datetime"
        },
        {
         "name": "('Close', 'AAPL')",
         "rawType": "float64",
         "type": "float"
        },
        {
         "name": "('High', 'AAPL')",
         "rawType": "float64",
         "type": "float"
        },
        {
         "name": "('Low', 'AAPL')",
         "rawType": "float64",
         "type": "float"
        },
        {
         "name": "('Open', 'AAPL')",
         "rawType": "float64",
         "type": "float"
        },
        {
         "name": "('Volume', 'AAPL')",
         "rawType": "int64",
         "type": "integer"
        }
       ],
       "ref": "3002ccda-17e0-4c86-a1c5-09f488588b0e",
       "rows": [
        [
         "2020-01-02 00:00:00",
         "72.6208267211914",
         "72.68127355425736",
         "71.37320320125843",
         "71.62707694862993",
         "135480400"
        ],
        [
         "2020-01-03 00:00:00",
         "71.9148178100586",
         "72.67644657227763",
         "71.68995732022762",
         "71.84711763961168",
         "146322800"
        ],
        [
         "2020-01-06 00:00:00",
         "72.48786163330078",
         "72.52654850385467",
         "70.78326336625187",
         "71.03472433546915",
         "118387200"
        ],
        [
         "2020-01-07 00:00:00",
         "72.14693450927734",
         "72.75381577050801",
         "71.9269071243437",
         "72.49752175701711",
         "108872000"
        ],
        [
         "2020-01-08 00:00:00",
         "73.30752563476562",
         "73.60975989811726",
         "71.84954784350802",
         "71.84954784350802",
         "132079200"
        ]
       ],
       "shape": {
        "columns": 5,
        "rows": 5
       }
      },
      "text/html": [
       "<div>\n",
       "<style scoped>\n",
       "    .dataframe tbody tr th:only-of-type {\n",
       "        vertical-align: middle;\n",
       "    }\n",
       "\n",
       "    .dataframe tbody tr th {\n",
       "        vertical-align: top;\n",
       "    }\n",
       "\n",
       "    .dataframe thead tr th {\n",
       "        text-align: left;\n",
       "    }\n",
       "\n",
       "    .dataframe thead tr:last-of-type th {\n",
       "        text-align: right;\n",
       "    }\n",
       "</style>\n",
       "<table border=\"1\" class=\"dataframe\">\n",
       "  <thead>\n",
       "    <tr>\n",
       "      <th>Price</th>\n",
       "      <th>Close</th>\n",
       "      <th>High</th>\n",
       "      <th>Low</th>\n",
       "      <th>Open</th>\n",
       "      <th>Volume</th>\n",
       "    </tr>\n",
       "    <tr>\n",
       "      <th>Ticker</th>\n",
       "      <th>AAPL</th>\n",
       "      <th>AAPL</th>\n",
       "      <th>AAPL</th>\n",
       "      <th>AAPL</th>\n",
       "      <th>AAPL</th>\n",
       "    </tr>\n",
       "    <tr>\n",
       "      <th>Date</th>\n",
       "      <th></th>\n",
       "      <th></th>\n",
       "      <th></th>\n",
       "      <th></th>\n",
       "      <th></th>\n",
       "    </tr>\n",
       "  </thead>\n",
       "  <tbody>\n",
       "    <tr>\n",
       "      <th>2020-01-02</th>\n",
       "      <td>72.620827</td>\n",
       "      <td>72.681274</td>\n",
       "      <td>71.373203</td>\n",
       "      <td>71.627077</td>\n",
       "      <td>135480400</td>\n",
       "    </tr>\n",
       "    <tr>\n",
       "      <th>2020-01-03</th>\n",
       "      <td>71.914818</td>\n",
       "      <td>72.676447</td>\n",
       "      <td>71.689957</td>\n",
       "      <td>71.847118</td>\n",
       "      <td>146322800</td>\n",
       "    </tr>\n",
       "    <tr>\n",
       "      <th>2020-01-06</th>\n",
       "      <td>72.487862</td>\n",
       "      <td>72.526549</td>\n",
       "      <td>70.783263</td>\n",
       "      <td>71.034724</td>\n",
       "      <td>118387200</td>\n",
       "    </tr>\n",
       "    <tr>\n",
       "      <th>2020-01-07</th>\n",
       "      <td>72.146935</td>\n",
       "      <td>72.753816</td>\n",
       "      <td>71.926907</td>\n",
       "      <td>72.497522</td>\n",
       "      <td>108872000</td>\n",
       "    </tr>\n",
       "    <tr>\n",
       "      <th>2020-01-08</th>\n",
       "      <td>73.307526</td>\n",
       "      <td>73.609760</td>\n",
       "      <td>71.849548</td>\n",
       "      <td>71.849548</td>\n",
       "      <td>132079200</td>\n",
       "    </tr>\n",
       "  </tbody>\n",
       "</table>\n",
       "</div>"
      ],
      "text/plain": [
       "Price           Close       High        Low       Open     Volume\n",
       "Ticker           AAPL       AAPL       AAPL       AAPL       AAPL\n",
       "Date                                                             \n",
       "2020-01-02  72.620827  72.681274  71.373203  71.627077  135480400\n",
       "2020-01-03  71.914818  72.676447  71.689957  71.847118  146322800\n",
       "2020-01-06  72.487862  72.526549  70.783263  71.034724  118387200\n",
       "2020-01-07  72.146935  72.753816  71.926907  72.497522  108872000\n",
       "2020-01-08  73.307526  73.609760  71.849548  71.849548  132079200"
      ]
     },
     "execution_count": 2,
     "metadata": {},
     "output_type": "execute_result"
    }
   ],
   "source": [
    "ticker = 'AAPL'\n",
    "data = yf.download(ticker, start='2020-01-01', end='2023-01-01')\n",
    "data.head()"
   ]
  },
  {
   "cell_type": "markdown",
   "id": "bf13376c",
   "metadata": {},
   "source": [
    "## Calculating Volatility"
   ]
  },
  {
   "cell_type": "markdown",
   "id": "7db4cbe8",
   "metadata": {},
   "source": [
    "### Historical Volatility"
   ]
  },
  {
   "cell_type": "code",
   "execution_count": 3,
   "id": "7fe7d15b",
   "metadata": {},
   "outputs": [
    {
     "name": "stdout",
     "output_type": "stream",
     "text": [
      "Historical Volatility: 0.36933354661698875\n"
     ]
    }
   ],
   "source": [
    "\n",
    "def analyze_volatility(returns):\n",
    "    results = {}\n",
    "    \n",
    "    results['historical_vol'] = returns.std() * np.sqrt(252)\n",
    "    return results\n",
    "\n",
    "returns = data[('Close', 'AAPL')].pct_change().dropna()\n",
    "\n",
    "print(\"Historical Volatility:\", analyze_volatility(returns)['historical_vol'])\n",
    "\n"
   ]
  },
  {
   "cell_type": "markdown",
   "id": "b287bf73",
   "metadata": {},
   "source": [
    "### Garch Model For Forcasting"
   ]
  },
  {
   "cell_type": "code",
   "execution_count": 4,
   "id": "bf9caa9f",
   "metadata": {},
   "outputs": [
    {
     "name": "stdout",
     "output_type": "stream",
     "text": [
      "GARCH 5-day Variance Forecast: h.1    0.000005\n",
      "h.2    0.000005\n",
      "h.3    0.000005\n",
      "h.4    0.000005\n",
      "h.5    0.000005\n",
      "Name: 2022-12-30 00:00:00, dtype: float64\n"
     ]
    }
   ],
   "source": [
    "garch_model = arch_model(returns, vol='Garch', p=1, q=1, rescale=False)\n",
    "garch_fit = garch_model.fit(disp='off')\n",
    "garch_forecast = garch_fit.forecast(horizon=5).variance.iloc[-1] / 100\n",
    "\n",
    "print(\"GARCH 5-day Variance Forecast:\", garch_forecast)"
   ]
  },
  {
   "cell_type": "markdown",
   "id": "83768536",
   "metadata": {},
   "source": [
    "### Rolling Volatility\n"
   ]
  },
  {
   "cell_type": "code",
   "execution_count": 5,
   "id": "d7ad2d79",
   "metadata": {},
   "outputs": [
    {
     "data": {
      "text/plain": [
       "{'rolling_30day': Date\n",
       " 2020-01-03         NaN\n",
       " 2020-01-06         NaN\n",
       " 2020-01-07         NaN\n",
       " 2020-01-08         NaN\n",
       " 2020-01-09         NaN\n",
       "                 ...   \n",
       " 2022-12-23    0.302577\n",
       " 2022-12-27    0.296170\n",
       " 2022-12-28    0.305488\n",
       " 2022-12-29    0.316994\n",
       " 2022-12-30    0.317457\n",
       " Name: ('Close', 'AAPL'), Length: 755, dtype: float64}"
      ]
     },
     "execution_count": 5,
     "metadata": {},
     "output_type": "execute_result"
    }
   ],
   "source": [
    "results = {}\n",
    "results['rolling_30day'] = returns.rolling(window=30).std() * np.sqrt(252)\n",
    "results\n"
   ]
  },
  {
   "cell_type": "code",
   "execution_count": 6,
   "id": "78e4ef96",
   "metadata": {},
   "outputs": [
    {
     "data": {
      "image/png": "[encoded data removed]",
      "text/plain": [
       "<Figure size 1200x600 with 1 Axes>"
      ]
     },
     "metadata": {},
     "output_type": "display_data"
    }
   ],
   "source": [
    "# Plot the 30-day rolling volatility for AAPL\n",
    "plt.figure(figsize=(12, 6))\n",
    "results['rolling_30day'].plot(title='30-Day Rolling Volatility of AAPL')\n",
    "plt.ylabel('Annualized Volatility')\n",
    "plt.show()"
   ]
  },
  {
   "cell_type": "code",
   "execution_count": 7,
   "id": "cb8d27f9",
   "metadata": {},
   "outputs": [
    {
     "name": "stderr",
     "output_type": "stream",
     "text": [
      "None of PyTorch, TensorFlow >= 2.0, or Flax have been found. Models won't be available and only tokenizers, configuration and file/data utilities can be used.\n",
      "None of PyTorch, TensorFlow >= 2.0, or Flax have been found. Models won't be available and only tokenizers, configuration and file/data utilities can be used.\n"
     ]
    }
   ],
   "source": [
    "import requests\n",
    "from bs4 import BeautifulSoup\n",
    "from transformers import pipeline\n",
    "from urllib.parse import urljoin\n",
    "import time"
   ]
  },
  {
   "cell_type": "markdown",
   "id": "eaa8e562",
   "metadata": {},
   "source": [
    "# 2. Regulatory Change Monitoring & Impact Analysis"
   ]
  },
  {
   "cell_type": "markdown",
   "id": "a5caf68a",
   "metadata": {},
   "source": [
    "## Regulatory announcements"
   ]
  },
  {
   "cell_type": "code",
   "execution_count": 9,
   "id": "14bd3229",
   "metadata": {},
   "outputs": [
    {
     "name": "stdout",
     "output_type": "stream",
     "text": [
      "Latest press releases for SEC: https://www.sec.gov/news/pressreleases\n",
      "Latest press releases for FINRA: https://www.finra.org/media-center/newsreleases\n",
      "Latest press releases for CFTC: https://www.cftc.gov/PressRoom/PressReleases\n"
     ]
    }
   ],
   "source": [
    "# Example regulator URLs (replace with actual URLs as needed)\n",
    "regulator_urls = {\n",
    "    \"SEC\": \"https://www.sec.gov/news/pressreleases\",\n",
    "    \"FINRA\": \"https://www.finra.org/media-center/newsreleases\",\n",
    "    \"CFTC\": \"https://www.cftc.gov/PressRoom/PressReleases\"\n",
    "}\n",
    "\n",
    "for reg, url in regulator_urls.items():\n",
    "    print(f\"Latest press releases for {reg}: {url}\")"
   ]
  },
  {
   "cell_type": "markdown",
   "id": "62137409",
   "metadata": {},
   "source": [
    "## Impact Analysis"
   ]
  },
  {
   "cell_type": "code",
   "execution_count": 10,
   "id": "0623d91e",
   "metadata": {},
   "outputs": [
    {
     "name": "stdout",
     "output_type": "stream",
     "text": [
      "Latest 30-day Rolling Volatility: 0.3175\n",
      "Latest GARCH Forecasted Volatility (annualized): 0.0343\n",
      "GARCH model forecasts lower or similar future volatility compared to recent historical volatility.\n"
     ]
    }
   ],
   "source": [
    "\n",
    "latest_rolling_vol = results['rolling_30day'].iloc[-1]\n",
    "latest_garch_vol = np.sqrt(garch_forecast.iloc[0] * 252)  \n",
    "\n",
    "print(f\"Latest 30-day Rolling Volatility: {latest_rolling_vol:.4f}\")\n",
    "print(f\"Latest GARCH Forecasted Volatility (annualized): {latest_garch_vol:.4f}\")\n",
    "\n",
    "if latest_garch_vol > latest_rolling_vol:\n",
    "    print(\"GARCH model forecasts higher future volatility than recent historical volatility.\")\n",
    "else:\n",
    "    print(\"GARCH model forecasts lower or similar future volatility compared to recent historical volatility.\")"
   ]
  }
 ],
 "metadata": {
  "kernelspec": {
   "display_name": "Python 3",
   "language": "python",
   "name": "python3"
  },
  "language_info": {
   "codemirror_mode": {
    "name": "ipython",
    "version": 3
   },
   "file_extension": ".py",
   "mimetype": "text/x-python",
   "name": "python",
   "nbconvert_exporter": "python",
   "pygments_lexer": "ipython3",
   "version": "3.13.3"
  }
 },
 "nbformat": 4,
 "nbformat_minor": 5
}
